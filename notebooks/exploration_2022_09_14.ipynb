{
  "cells": [
    {
      "cell_type": "code",
      "execution_count": 1,
      "metadata": {
        "colab": {
          "base_uri": "https://localhost:8080/"
        },
        "id": "Jm9YL27iSReT",
        "outputId": "30a18d27-047e-44e0-beca-49ca7089ce0a"
      },
      "outputs": [],
      "source": [
        "# !git clone https://github.com/yongmin21/2022_BigContest.git"
      ]
    },
    {
      "cell_type": "code",
      "execution_count": 2,
      "metadata": {
        "colab": {
          "base_uri": "https://localhost:8080/"
        },
        "id": "-vbTrxZ2UizC",
        "outputId": "e10f13df-2eb0-449e-f9b3-c56c8de84ba9"
      },
      "outputs": [],
      "source": [
        "# %cd \"/content/2022_BigContest\"\n",
        "# !pwd"
      ]
    },
    {
      "cell_type": "code",
      "execution_count": 3,
      "metadata": {
        "colab": {
          "base_uri": "https://localhost:8080/"
        },
        "id": "plfdJ9pGVBWS",
        "outputId": "7ad4d7a5-2bb1-45a0-f655-6da8e7dd6bee"
      },
      "outputs": [],
      "source": [
        "# !git lfs install\n",
        "# !git lfs pull origin"
      ]
    },
    {
      "cell_type": "code",
      "execution_count": 8,
      "metadata": {
        "colab": {
          "base_uri": "https://localhost:8080/"
        },
        "id": "9sMOuLOedrKh",
        "outputId": "a597fec9-93c7-4bcb-e374-9115a5044e5e"
      },
      "outputs": [],
      "source": [
        "import matplotlib.pyplot as plt\n",
        "import matplotlib.font_manager as fm\n",
        "\n",
        "path_gothic = '/etc/fonts/NanumGothic.ttf'\n",
        "fontprop = fm.FontProperties(fname=path_gothic, size=15)"
      ]
    },
    {
      "cell_type": "code",
      "execution_count": 2,
      "metadata": {
        "id": "4b_JwCdSSXTx"
      },
      "outputs": [],
      "source": [
        "import pandas as pd\n",
        "import numpy as np\n",
        "import seaborn as sns\n",
        "\n",
        "sns.set_style(\"darkgrid\")\n",
        "sns.set_palette(\"deep\")\n",
        "\n",
        "#dir = \"/content/2022_BigContest/data/\"\n",
        "dir = \"../data/\""
      ]
    },
    {
      "cell_type": "code",
      "execution_count": 106,
      "metadata": {
        "id": "eZa5Lql0S-uy"
      },
      "outputs": [],
      "source": [
        "train = pd.read_parquet(dir + \"train.parquet\")\n",
        "user_spec = pd.read_parquet(dir + \"user_spec.parquet\")\n",
        "meta = pd.read_pickle(dir + 'meta.pkl')\n",
        "\n",
        "data = train.merge(user_spec, how='inner', on='application_id')"
      ]
    },
    {
      "cell_type": "code",
      "execution_count": 107,
      "metadata": {
        "colab": {
          "base_uri": "https://localhost:8080/",
          "height": 300
        },
        "id": "GVpxmakPcshz",
        "outputId": "3ab8b043-c351-4c2f-95bb-3c0e78ecbc44"
      },
      "outputs": [
        {
          "data": {
            "text/html": [
              "<div>\n",
              "<style scoped>\n",
              "    .dataframe tbody tr th:only-of-type {\n",
              "        vertical-align: middle;\n",
              "    }\n",
              "\n",
              "    .dataframe tbody tr th {\n",
              "        vertical-align: top;\n",
              "    }\n",
              "\n",
              "    .dataframe thead th {\n",
              "        text-align: right;\n",
              "    }\n",
              "</style>\n",
              "<table border=\"1\" class=\"dataframe\">\n",
              "  <thead>\n",
              "    <tr style=\"text-align: right;\">\n",
              "      <th></th>\n",
              "      <th>application_id</th>\n",
              "      <th>loanapply_insert_time</th>\n",
              "      <th>bank_id</th>\n",
              "      <th>product_id</th>\n",
              "      <th>loan_limit</th>\n",
              "      <th>loan_rate</th>\n",
              "      <th>is_applied</th>\n",
              "      <th>month</th>\n",
              "      <th>user_id</th>\n",
              "      <th>birth_year</th>\n",
              "      <th>...</th>\n",
              "      <th>income_type</th>\n",
              "      <th>company_enter_month</th>\n",
              "      <th>employment_type</th>\n",
              "      <th>houseown_type</th>\n",
              "      <th>desired_amount</th>\n",
              "      <th>purpose</th>\n",
              "      <th>personal_rehabilitation_yn</th>\n",
              "      <th>personal_rehabilitation_complete_yn</th>\n",
              "      <th>existing_loan_cnt</th>\n",
              "      <th>existing_loan_amt</th>\n",
              "    </tr>\n",
              "  </thead>\n",
              "  <tbody>\n",
              "    <tr>\n",
              "      <th>0</th>\n",
              "      <td>2157865</td>\n",
              "      <td>2022-05-09 08:44:59</td>\n",
              "      <td>54</td>\n",
              "      <td>235</td>\n",
              "      <td>20000000.0</td>\n",
              "      <td>16.5</td>\n",
              "      <td>1.0</td>\n",
              "      <td>5</td>\n",
              "      <td>346970</td>\n",
              "      <td>1970.0</td>\n",
              "      <td>...</td>\n",
              "      <td>EARNEDINCOME</td>\n",
              "      <td>201312.0</td>\n",
              "      <td>정규직</td>\n",
              "      <td>자가</td>\n",
              "      <td>10000000.0</td>\n",
              "      <td>생활비</td>\n",
              "      <td>0.0</td>\n",
              "      <td>NaN</td>\n",
              "      <td>12.0</td>\n",
              "      <td>162000000.0</td>\n",
              "    </tr>\n",
              "    <tr>\n",
              "      <th>1</th>\n",
              "      <td>576643</td>\n",
              "      <td>2022-05-09 10:54:53</td>\n",
              "      <td>54</td>\n",
              "      <td>235</td>\n",
              "      <td>11000000.0</td>\n",
              "      <td>16.5</td>\n",
              "      <td>0.0</td>\n",
              "      <td>5</td>\n",
              "      <td>545882</td>\n",
              "      <td>1977.0</td>\n",
              "      <td>...</td>\n",
              "      <td>EARNEDINCOME</td>\n",
              "      <td>201908.0</td>\n",
              "      <td>정규직</td>\n",
              "      <td>전월세</td>\n",
              "      <td>20000000.0</td>\n",
              "      <td>생활비</td>\n",
              "      <td>0.0</td>\n",
              "      <td>NaN</td>\n",
              "      <td>7.0</td>\n",
              "      <td>106000000.0</td>\n",
              "    </tr>\n",
              "    <tr>\n",
              "      <th>2</th>\n",
              "      <td>576643</td>\n",
              "      <td>2022-05-09 10:54:53</td>\n",
              "      <td>11</td>\n",
              "      <td>118</td>\n",
              "      <td>3000000.0</td>\n",
              "      <td>20.0</td>\n",
              "      <td>0.0</td>\n",
              "      <td>5</td>\n",
              "      <td>545882</td>\n",
              "      <td>1977.0</td>\n",
              "      <td>...</td>\n",
              "      <td>EARNEDINCOME</td>\n",
              "      <td>201908.0</td>\n",
              "      <td>정규직</td>\n",
              "      <td>전월세</td>\n",
              "      <td>20000000.0</td>\n",
              "      <td>생활비</td>\n",
              "      <td>0.0</td>\n",
              "      <td>NaN</td>\n",
              "      <td>7.0</td>\n",
              "      <td>106000000.0</td>\n",
              "    </tr>\n",
              "    <tr>\n",
              "      <th>3</th>\n",
              "      <td>2136706</td>\n",
              "      <td>2022-05-09 10:41:06</td>\n",
              "      <td>42</td>\n",
              "      <td>216</td>\n",
              "      <td>10000000.0</td>\n",
              "      <td>13.5</td>\n",
              "      <td>0.0</td>\n",
              "      <td>5</td>\n",
              "      <td>558819</td>\n",
              "      <td>1983.0</td>\n",
              "      <td>...</td>\n",
              "      <td>EARNEDINCOME</td>\n",
              "      <td>201203.0</td>\n",
              "      <td>정규직</td>\n",
              "      <td>전월세</td>\n",
              "      <td>80000000.0</td>\n",
              "      <td>대환대출</td>\n",
              "      <td>0.0</td>\n",
              "      <td>NaN</td>\n",
              "      <td>2.0</td>\n",
              "      <td>58000000.0</td>\n",
              "    </tr>\n",
              "    <tr>\n",
              "      <th>4</th>\n",
              "      <td>2136706</td>\n",
              "      <td>2022-05-09 10:41:07</td>\n",
              "      <td>25</td>\n",
              "      <td>169</td>\n",
              "      <td>22000000.0</td>\n",
              "      <td>15.9</td>\n",
              "      <td>0.0</td>\n",
              "      <td>5</td>\n",
              "      <td>558819</td>\n",
              "      <td>1983.0</td>\n",
              "      <td>...</td>\n",
              "      <td>EARNEDINCOME</td>\n",
              "      <td>201203.0</td>\n",
              "      <td>정규직</td>\n",
              "      <td>전월세</td>\n",
              "      <td>80000000.0</td>\n",
              "      <td>대환대출</td>\n",
              "      <td>0.0</td>\n",
              "      <td>NaN</td>\n",
              "      <td>2.0</td>\n",
              "      <td>58000000.0</td>\n",
              "    </tr>\n",
              "  </tbody>\n",
              "</table>\n",
              "<p>5 rows × 24 columns</p>\n",
              "</div>"
            ],
            "text/plain": [
              "   application_id loanapply_insert_time  bank_id  product_id  loan_limit  \\\n",
              "0         2157865   2022-05-09 08:44:59       54         235  20000000.0   \n",
              "1          576643   2022-05-09 10:54:53       54         235  11000000.0   \n",
              "2          576643   2022-05-09 10:54:53       11         118   3000000.0   \n",
              "3         2136706   2022-05-09 10:41:06       42         216  10000000.0   \n",
              "4         2136706   2022-05-09 10:41:07       25         169  22000000.0   \n",
              "\n",
              "   loan_rate  is_applied  month  user_id  birth_year  ...   income_type  \\\n",
              "0       16.5         1.0      5   346970      1970.0  ...  EARNEDINCOME   \n",
              "1       16.5         0.0      5   545882      1977.0  ...  EARNEDINCOME   \n",
              "2       20.0         0.0      5   545882      1977.0  ...  EARNEDINCOME   \n",
              "3       13.5         0.0      5   558819      1983.0  ...  EARNEDINCOME   \n",
              "4       15.9         0.0      5   558819      1983.0  ...  EARNEDINCOME   \n",
              "\n",
              "  company_enter_month  employment_type  houseown_type desired_amount  purpose  \\\n",
              "0            201312.0              정규직             자가     10000000.0      생활비   \n",
              "1            201908.0              정규직            전월세     20000000.0      생활비   \n",
              "2            201908.0              정규직            전월세     20000000.0      생활비   \n",
              "3            201203.0              정규직            전월세     80000000.0     대환대출   \n",
              "4            201203.0              정규직            전월세     80000000.0     대환대출   \n",
              "\n",
              "  personal_rehabilitation_yn personal_rehabilitation_complete_yn  \\\n",
              "0                        0.0                                 NaN   \n",
              "1                        0.0                                 NaN   \n",
              "2                        0.0                                 NaN   \n",
              "3                        0.0                                 NaN   \n",
              "4                        0.0                                 NaN   \n",
              "\n",
              "   existing_loan_cnt existing_loan_amt  \n",
              "0               12.0       162000000.0  \n",
              "1                7.0       106000000.0  \n",
              "2                7.0       106000000.0  \n",
              "3                2.0        58000000.0  \n",
              "4                2.0        58000000.0  \n",
              "\n",
              "[5 rows x 24 columns]"
            ]
          },
          "execution_count": 107,
          "metadata": {},
          "output_type": "execute_result"
        }
      ],
      "source": [
        "data.head()"
      ]
    },
    {
      "cell_type": "markdown",
      "metadata": {
        "id": "K33cSVGyeY7z"
      },
      "source": [
        "**<가설>**\n",
        "1. 대출 승인은 대출 상환 능력이 높은 사람에게 쉽게 해줄 것이다.  \n",
        "(신용점수가 가장 영향이 높을 것이고, 정규직, 연봉, 주택소유형태 등에 영향을 많이 받을 것이다.)  \n",
        "2. 1번과 마찬가지로 개인회생경험이나 기존 대출 금액이 있는 사람은 대출이 힘들 것이다."
      ]
    },
    {
      "cell_type": "code",
      "execution_count": 118,
      "metadata": {},
      "outputs": [
        {
          "data": {
            "text/html": [
              "<div>\n",
              "<style scoped>\n",
              "    .dataframe tbody tr th:only-of-type {\n",
              "        vertical-align: middle;\n",
              "    }\n",
              "\n",
              "    .dataframe tbody tr th {\n",
              "        vertical-align: top;\n",
              "    }\n",
              "\n",
              "    .dataframe thead th {\n",
              "        text-align: right;\n",
              "    }\n",
              "</style>\n",
              "<table border=\"1\" class=\"dataframe\">\n",
              "  <thead>\n",
              "    <tr style=\"text-align: right;\">\n",
              "      <th></th>\n",
              "      <th>total_nan</th>\n",
              "      <th>ratio</th>\n",
              "    </tr>\n",
              "    <tr>\n",
              "      <th>varname</th>\n",
              "      <th></th>\n",
              "      <th></th>\n",
              "    </tr>\n",
              "  </thead>\n",
              "  <tbody>\n",
              "    <tr>\n",
              "      <th>loanapply_insert_time</th>\n",
              "      <td>0</td>\n",
              "      <td>0.000000</td>\n",
              "    </tr>\n",
              "    <tr>\n",
              "      <th>bank_id</th>\n",
              "      <td>0</td>\n",
              "      <td>0.000000</td>\n",
              "    </tr>\n",
              "    <tr>\n",
              "      <th>product_id</th>\n",
              "      <td>0</td>\n",
              "      <td>0.000000</td>\n",
              "    </tr>\n",
              "    <tr>\n",
              "      <th>loan_limit</th>\n",
              "      <td>5625</td>\n",
              "      <td>0.000548</td>\n",
              "    </tr>\n",
              "    <tr>\n",
              "      <th>loan_rate</th>\n",
              "      <td>5625</td>\n",
              "      <td>0.000548</td>\n",
              "    </tr>\n",
              "    <tr>\n",
              "      <th>is_applied</th>\n",
              "      <td>0</td>\n",
              "      <td>0.000000</td>\n",
              "    </tr>\n",
              "    <tr>\n",
              "      <th>application_id</th>\n",
              "      <td>0</td>\n",
              "      <td>0.000000</td>\n",
              "    </tr>\n",
              "    <tr>\n",
              "      <th>user_id</th>\n",
              "      <td>0</td>\n",
              "      <td>0.000000</td>\n",
              "    </tr>\n",
              "    <tr>\n",
              "      <th>birth_year</th>\n",
              "      <td>91626</td>\n",
              "      <td>0.008922</td>\n",
              "    </tr>\n",
              "    <tr>\n",
              "      <th>gender</th>\n",
              "      <td>91626</td>\n",
              "      <td>0.008922</td>\n",
              "    </tr>\n",
              "    <tr>\n",
              "      <th>insert_time</th>\n",
              "      <td>0</td>\n",
              "      <td>0.000000</td>\n",
              "    </tr>\n",
              "    <tr>\n",
              "      <th>credit_score</th>\n",
              "      <td>1243812</td>\n",
              "      <td>0.121111</td>\n",
              "    </tr>\n",
              "    <tr>\n",
              "      <th>yearly_income</th>\n",
              "      <td>0</td>\n",
              "      <td>0.000000</td>\n",
              "    </tr>\n",
              "    <tr>\n",
              "      <th>income_type</th>\n",
              "      <td>0</td>\n",
              "      <td>0.000000</td>\n",
              "    </tr>\n",
              "    <tr>\n",
              "      <th>company_enter_month</th>\n",
              "      <td>303568</td>\n",
              "      <td>0.029559</td>\n",
              "    </tr>\n",
              "    <tr>\n",
              "      <th>employment_type</th>\n",
              "      <td>0</td>\n",
              "      <td>0.000000</td>\n",
              "    </tr>\n",
              "    <tr>\n",
              "      <th>houseown_type</th>\n",
              "      <td>0</td>\n",
              "      <td>0.000000</td>\n",
              "    </tr>\n",
              "    <tr>\n",
              "      <th>desired_amount</th>\n",
              "      <td>0</td>\n",
              "      <td>0.000000</td>\n",
              "    </tr>\n",
              "    <tr>\n",
              "      <th>purpose</th>\n",
              "      <td>0</td>\n",
              "      <td>0.000000</td>\n",
              "    </tr>\n",
              "    <tr>\n",
              "      <th>personal_rehabilitation_yn</th>\n",
              "      <td>0</td>\n",
              "      <td>0.000000</td>\n",
              "    </tr>\n",
              "    <tr>\n",
              "      <th>personal_rehabilitation_complete_yn</th>\n",
              "      <td>0</td>\n",
              "      <td>0.000000</td>\n",
              "    </tr>\n",
              "    <tr>\n",
              "      <th>existing_loan_cnt</th>\n",
              "      <td>0</td>\n",
              "      <td>0.000000</td>\n",
              "    </tr>\n",
              "    <tr>\n",
              "      <th>existing_loan_amt</th>\n",
              "      <td>900329</td>\n",
              "      <td>0.087666</td>\n",
              "    </tr>\n",
              "  </tbody>\n",
              "</table>\n",
              "</div>"
            ],
            "text/plain": [
              "                                     total_nan     ratio\n",
              "varname                                                 \n",
              "loanapply_insert_time                        0  0.000000\n",
              "bank_id                                      0  0.000000\n",
              "product_id                                   0  0.000000\n",
              "loan_limit                                5625  0.000548\n",
              "loan_rate                                 5625  0.000548\n",
              "is_applied                                   0  0.000000\n",
              "application_id                               0  0.000000\n",
              "user_id                                      0  0.000000\n",
              "birth_year                               91626  0.008922\n",
              "gender                                   91626  0.008922\n",
              "insert_time                                  0  0.000000\n",
              "credit_score                           1243812  0.121111\n",
              "yearly_income                                0  0.000000\n",
              "income_type                                  0  0.000000\n",
              "company_enter_month                     303568  0.029559\n",
              "employment_type                              0  0.000000\n",
              "houseown_type                                0  0.000000\n",
              "desired_amount                               0  0.000000\n",
              "purpose                                      0  0.000000\n",
              "personal_rehabilitation_yn                   0  0.000000\n",
              "personal_rehabilitation_complete_yn          0  0.000000\n",
              "existing_loan_cnt                            0  0.000000\n",
              "existing_loan_amt                       900329  0.087666"
            ]
          },
          "execution_count": 118,
          "metadata": {},
          "output_type": "execute_result"
        }
      ],
      "source": [
        "def get_nan_table(df, index):\n",
        "    nan_df = (pd.DataFrame(\n",
        "        {'total_nan': df.isnull().sum(),\n",
        "         'ratio': df.isnull().sum() / df.shape[0]},\n",
        "         index=index\n",
        "    ))\n",
        "    return nan_df\n",
        "\n",
        "get_nan_table(data, meta.index)"
      ]
    },
    {
      "cell_type": "markdown",
      "metadata": {
        "id": "wpv5L5q94kSg"
      },
      "source": [
        "### NaN 처리"
      ]
    },
    {
      "cell_type": "code",
      "execution_count": 113,
      "metadata": {},
      "outputs": [],
      "source": [
        "# 개인회생여부가 0, nan 이고 개인회생납입완료여부가 nan, nan 이라면 nan값을 특수하게 정의 해주는 것이 필요\n",
        "\n",
        "# -1로 대치하고 one-hot 인코딩 사용\n",
        "# 기대출수가 0이라면 기대출금액도 0, 그 외의 nan 값은 knn imputer 사용\n",
        "data.fillna({'personal_rehabilitation_yn': -1,\n",
        "             'personal_rehabilitation_complete_yn' : -1,\n",
        "             'existing_loan_cnt': 0\n",
        "             }, inplace=True)\n",
        "\n",
        "data.loc[data['existing_loan_cnt']==0, 'existing_loan_amt'] = (data\n",
        "                                                               .loc[data['existing_loan_cnt']==0, 'existing_loan_amt']\n",
        "                                                               .fillna(0))"
      ]
    },
    {
      "cell_type": "code",
      "execution_count": 119,
      "metadata": {},
      "outputs": [
        {
          "data": {
            "text/html": [
              "<div>\n",
              "<style scoped>\n",
              "    .dataframe tbody tr th:only-of-type {\n",
              "        vertical-align: middle;\n",
              "    }\n",
              "\n",
              "    .dataframe tbody tr th {\n",
              "        vertical-align: top;\n",
              "    }\n",
              "\n",
              "    .dataframe thead th {\n",
              "        text-align: right;\n",
              "    }\n",
              "</style>\n",
              "<table border=\"1\" class=\"dataframe\">\n",
              "  <thead>\n",
              "    <tr style=\"text-align: right;\">\n",
              "      <th></th>\n",
              "      <th>total_nan</th>\n",
              "      <th>ratio</th>\n",
              "    </tr>\n",
              "    <tr>\n",
              "      <th>varname</th>\n",
              "      <th></th>\n",
              "      <th></th>\n",
              "    </tr>\n",
              "  </thead>\n",
              "  <tbody>\n",
              "    <tr>\n",
              "      <th>loanapply_insert_time</th>\n",
              "      <td>0</td>\n",
              "      <td>0.000000</td>\n",
              "    </tr>\n",
              "    <tr>\n",
              "      <th>bank_id</th>\n",
              "      <td>0</td>\n",
              "      <td>0.000000</td>\n",
              "    </tr>\n",
              "    <tr>\n",
              "      <th>product_id</th>\n",
              "      <td>0</td>\n",
              "      <td>0.000000</td>\n",
              "    </tr>\n",
              "    <tr>\n",
              "      <th>loan_limit</th>\n",
              "      <td>5625</td>\n",
              "      <td>0.000548</td>\n",
              "    </tr>\n",
              "    <tr>\n",
              "      <th>loan_rate</th>\n",
              "      <td>5625</td>\n",
              "      <td>0.000548</td>\n",
              "    </tr>\n",
              "    <tr>\n",
              "      <th>is_applied</th>\n",
              "      <td>0</td>\n",
              "      <td>0.000000</td>\n",
              "    </tr>\n",
              "    <tr>\n",
              "      <th>application_id</th>\n",
              "      <td>0</td>\n",
              "      <td>0.000000</td>\n",
              "    </tr>\n",
              "    <tr>\n",
              "      <th>user_id</th>\n",
              "      <td>0</td>\n",
              "      <td>0.000000</td>\n",
              "    </tr>\n",
              "    <tr>\n",
              "      <th>birth_year</th>\n",
              "      <td>91626</td>\n",
              "      <td>0.008922</td>\n",
              "    </tr>\n",
              "    <tr>\n",
              "      <th>gender</th>\n",
              "      <td>91626</td>\n",
              "      <td>0.008922</td>\n",
              "    </tr>\n",
              "    <tr>\n",
              "      <th>insert_time</th>\n",
              "      <td>0</td>\n",
              "      <td>0.000000</td>\n",
              "    </tr>\n",
              "    <tr>\n",
              "      <th>credit_score</th>\n",
              "      <td>1243812</td>\n",
              "      <td>0.121111</td>\n",
              "    </tr>\n",
              "    <tr>\n",
              "      <th>yearly_income</th>\n",
              "      <td>0</td>\n",
              "      <td>0.000000</td>\n",
              "    </tr>\n",
              "    <tr>\n",
              "      <th>income_type</th>\n",
              "      <td>0</td>\n",
              "      <td>0.000000</td>\n",
              "    </tr>\n",
              "    <tr>\n",
              "      <th>company_enter_month</th>\n",
              "      <td>303568</td>\n",
              "      <td>0.029559</td>\n",
              "    </tr>\n",
              "    <tr>\n",
              "      <th>employment_type</th>\n",
              "      <td>0</td>\n",
              "      <td>0.000000</td>\n",
              "    </tr>\n",
              "    <tr>\n",
              "      <th>houseown_type</th>\n",
              "      <td>0</td>\n",
              "      <td>0.000000</td>\n",
              "    </tr>\n",
              "    <tr>\n",
              "      <th>desired_amount</th>\n",
              "      <td>0</td>\n",
              "      <td>0.000000</td>\n",
              "    </tr>\n",
              "    <tr>\n",
              "      <th>purpose</th>\n",
              "      <td>0</td>\n",
              "      <td>0.000000</td>\n",
              "    </tr>\n",
              "    <tr>\n",
              "      <th>personal_rehabilitation_yn</th>\n",
              "      <td>0</td>\n",
              "      <td>0.000000</td>\n",
              "    </tr>\n",
              "    <tr>\n",
              "      <th>personal_rehabilitation_complete_yn</th>\n",
              "      <td>0</td>\n",
              "      <td>0.000000</td>\n",
              "    </tr>\n",
              "    <tr>\n",
              "      <th>existing_loan_cnt</th>\n",
              "      <td>0</td>\n",
              "      <td>0.000000</td>\n",
              "    </tr>\n",
              "    <tr>\n",
              "      <th>existing_loan_amt</th>\n",
              "      <td>900329</td>\n",
              "      <td>0.087666</td>\n",
              "    </tr>\n",
              "  </tbody>\n",
              "</table>\n",
              "</div>"
            ],
            "text/plain": [
              "                                     total_nan     ratio\n",
              "varname                                                 \n",
              "loanapply_insert_time                        0  0.000000\n",
              "bank_id                                      0  0.000000\n",
              "product_id                                   0  0.000000\n",
              "loan_limit                                5625  0.000548\n",
              "loan_rate                                 5625  0.000548\n",
              "is_applied                                   0  0.000000\n",
              "application_id                               0  0.000000\n",
              "user_id                                      0  0.000000\n",
              "birth_year                               91626  0.008922\n",
              "gender                                   91626  0.008922\n",
              "insert_time                                  0  0.000000\n",
              "credit_score                           1243812  0.121111\n",
              "yearly_income                                0  0.000000\n",
              "income_type                                  0  0.000000\n",
              "company_enter_month                     303568  0.029559\n",
              "employment_type                              0  0.000000\n",
              "houseown_type                                0  0.000000\n",
              "desired_amount                               0  0.000000\n",
              "purpose                                      0  0.000000\n",
              "personal_rehabilitation_yn                   0  0.000000\n",
              "personal_rehabilitation_complete_yn          0  0.000000\n",
              "existing_loan_cnt                            0  0.000000\n",
              "existing_loan_amt                       900329  0.087666"
            ]
          },
          "execution_count": 119,
          "metadata": {},
          "output_type": "execute_result"
        }
      ],
      "source": [
        "get_nan_table(data, meta.index)"
      ]
    },
    {
      "cell_type": "code",
      "execution_count": 121,
      "metadata": {},
      "outputs": [],
      "source": [
        "test_data = data.dropna(subset=['gender'])"
      ]
    },
    {
      "cell_type": "code",
      "execution_count": 122,
      "metadata": {},
      "outputs": [
        {
          "data": {
            "text/html": [
              "<div>\n",
              "<style scoped>\n",
              "    .dataframe tbody tr th:only-of-type {\n",
              "        vertical-align: middle;\n",
              "    }\n",
              "\n",
              "    .dataframe tbody tr th {\n",
              "        vertical-align: top;\n",
              "    }\n",
              "\n",
              "    .dataframe thead th {\n",
              "        text-align: right;\n",
              "    }\n",
              "</style>\n",
              "<table border=\"1\" class=\"dataframe\">\n",
              "  <thead>\n",
              "    <tr style=\"text-align: right;\">\n",
              "      <th></th>\n",
              "      <th>total_nan</th>\n",
              "      <th>ratio</th>\n",
              "    </tr>\n",
              "    <tr>\n",
              "      <th>varname</th>\n",
              "      <th></th>\n",
              "      <th></th>\n",
              "    </tr>\n",
              "  </thead>\n",
              "  <tbody>\n",
              "    <tr>\n",
              "      <th>loanapply_insert_time</th>\n",
              "      <td>0</td>\n",
              "      <td>0.000000</td>\n",
              "    </tr>\n",
              "    <tr>\n",
              "      <th>bank_id</th>\n",
              "      <td>0</td>\n",
              "      <td>0.000000</td>\n",
              "    </tr>\n",
              "    <tr>\n",
              "      <th>product_id</th>\n",
              "      <td>0</td>\n",
              "      <td>0.000000</td>\n",
              "    </tr>\n",
              "    <tr>\n",
              "      <th>loan_limit</th>\n",
              "      <td>5584</td>\n",
              "      <td>0.000549</td>\n",
              "    </tr>\n",
              "    <tr>\n",
              "      <th>loan_rate</th>\n",
              "      <td>5584</td>\n",
              "      <td>0.000549</td>\n",
              "    </tr>\n",
              "    <tr>\n",
              "      <th>is_applied</th>\n",
              "      <td>0</td>\n",
              "      <td>0.000000</td>\n",
              "    </tr>\n",
              "    <tr>\n",
              "      <th>application_id</th>\n",
              "      <td>0</td>\n",
              "      <td>0.000000</td>\n",
              "    </tr>\n",
              "    <tr>\n",
              "      <th>user_id</th>\n",
              "      <td>0</td>\n",
              "      <td>0.000000</td>\n",
              "    </tr>\n",
              "    <tr>\n",
              "      <th>birth_year</th>\n",
              "      <td>0</td>\n",
              "      <td>0.000000</td>\n",
              "    </tr>\n",
              "    <tr>\n",
              "      <th>gender</th>\n",
              "      <td>0</td>\n",
              "      <td>0.000000</td>\n",
              "    </tr>\n",
              "    <tr>\n",
              "      <th>insert_time</th>\n",
              "      <td>0</td>\n",
              "      <td>0.000000</td>\n",
              "    </tr>\n",
              "    <tr>\n",
              "      <th>credit_score</th>\n",
              "      <td>1229941</td>\n",
              "      <td>0.120839</td>\n",
              "    </tr>\n",
              "    <tr>\n",
              "      <th>yearly_income</th>\n",
              "      <td>0</td>\n",
              "      <td>0.000000</td>\n",
              "    </tr>\n",
              "    <tr>\n",
              "      <th>income_type</th>\n",
              "      <td>0</td>\n",
              "      <td>0.000000</td>\n",
              "    </tr>\n",
              "    <tr>\n",
              "      <th>company_enter_month</th>\n",
              "      <td>299731</td>\n",
              "      <td>0.029448</td>\n",
              "    </tr>\n",
              "    <tr>\n",
              "      <th>employment_type</th>\n",
              "      <td>0</td>\n",
              "      <td>0.000000</td>\n",
              "    </tr>\n",
              "    <tr>\n",
              "      <th>houseown_type</th>\n",
              "      <td>0</td>\n",
              "      <td>0.000000</td>\n",
              "    </tr>\n",
              "    <tr>\n",
              "      <th>desired_amount</th>\n",
              "      <td>0</td>\n",
              "      <td>0.000000</td>\n",
              "    </tr>\n",
              "    <tr>\n",
              "      <th>purpose</th>\n",
              "      <td>0</td>\n",
              "      <td>0.000000</td>\n",
              "    </tr>\n",
              "    <tr>\n",
              "      <th>personal_rehabilitation_yn</th>\n",
              "      <td>0</td>\n",
              "      <td>0.000000</td>\n",
              "    </tr>\n",
              "    <tr>\n",
              "      <th>personal_rehabilitation_complete_yn</th>\n",
              "      <td>0</td>\n",
              "      <td>0.000000</td>\n",
              "    </tr>\n",
              "    <tr>\n",
              "      <th>existing_loan_cnt</th>\n",
              "      <td>0</td>\n",
              "      <td>0.000000</td>\n",
              "    </tr>\n",
              "    <tr>\n",
              "      <th>existing_loan_amt</th>\n",
              "      <td>893098</td>\n",
              "      <td>0.087745</td>\n",
              "    </tr>\n",
              "  </tbody>\n",
              "</table>\n",
              "</div>"
            ],
            "text/plain": [
              "                                     total_nan     ratio\n",
              "varname                                                 \n",
              "loanapply_insert_time                        0  0.000000\n",
              "bank_id                                      0  0.000000\n",
              "product_id                                   0  0.000000\n",
              "loan_limit                                5584  0.000549\n",
              "loan_rate                                 5584  0.000549\n",
              "is_applied                                   0  0.000000\n",
              "application_id                               0  0.000000\n",
              "user_id                                      0  0.000000\n",
              "birth_year                                   0  0.000000\n",
              "gender                                       0  0.000000\n",
              "insert_time                                  0  0.000000\n",
              "credit_score                           1229941  0.120839\n",
              "yearly_income                                0  0.000000\n",
              "income_type                                  0  0.000000\n",
              "company_enter_month                     299731  0.029448\n",
              "employment_type                              0  0.000000\n",
              "houseown_type                                0  0.000000\n",
              "desired_amount                               0  0.000000\n",
              "purpose                                      0  0.000000\n",
              "personal_rehabilitation_yn                   0  0.000000\n",
              "personal_rehabilitation_complete_yn          0  0.000000\n",
              "existing_loan_cnt                            0  0.000000\n",
              "existing_loan_amt                       893098  0.087745"
            ]
          },
          "execution_count": 122,
          "metadata": {},
          "output_type": "execute_result"
        }
      ],
      "source": [
        "get_nan_table(test_data, meta.index)"
      ]
    },
    {
      "cell_type": "markdown",
      "metadata": {},
      "source": [
        "* knn imputer를 사용한 결측치 처리\n",
        "* iterative imputer를 사용한 결측치 처리\n",
        "* 결측치를 모두 제거해 처리\n",
        "* gender는 이진분류로 예측"
      ]
    },
    {
      "cell_type": "markdown",
      "metadata": {
        "id": "IiBZyuhIiPzx"
      },
      "source": [
        "# Categorical Variables\n",
        "### 0. target 분포 확인"
      ]
    },
    {
      "cell_type": "code",
      "execution_count": null,
      "metadata": {
        "colab": {
          "base_uri": "https://localhost:8080/",
          "height": 470
        },
        "id": "tNpqvgb8iTFr",
        "outputId": "dbed127e-adf0-413d-d858-89f571f63c5b"
      },
      "outputs": [
        {
          "data": {
            "text/plain": [
              "<matplotlib.axes._subplots.AxesSubplot at 0x7f4aaa5f2690>"
            ]
          },
          "execution_count": 9,
          "metadata": {},
          "output_type": "execute_result"
        },
        {
          "data": {
            "image/png": "[encoded data removed]",
            "text/plain": [
              "<Figure size 720x504 with 1 Axes>"
            ]
          },
          "metadata": {
            "needs_background": "light"
          },
          "output_type": "display_data"
        }
      ],
      "source": [
        "plt.figure(figsize=(10,7))\n",
        "sns.countplot(x='is_applied', data=data)"
      ]
    },
    {
      "cell_type": "markdown",
      "metadata": {
        "id": "GdnP-0wxi0iq"
      },
      "source": [
        "* 아주 심하게 unbalanced된 데이터이다.\n",
        "* UnderSampling 또는 OverSampling 기법을 통해 적절히 분포를 조정해줘야 할 것이다.\n",
        "* 모델링 단계에서 stratified k-fold, 교차검증을 통해 충분히 오버피팅을 방지해줄 필요가 있다.\n",
        "* 검증 metric으로 F1-score, ROC-AUC curve 등을 활용하는 것이 좋다."
      ]
    },
    {
      "cell_type": "code",
      "execution_count": null,
      "metadata": {
        "colab": {
          "base_uri": "https://localhost:8080/"
        },
        "id": "aa_PnfkHnh2_",
        "outputId": "323ceef0-b542-4e4d-d3da-2e72be58e182"
      },
      "outputs": [
        {
          "data": {
            "text/plain": [
              "0.0    0.94544\n",
              "1.0    0.05456\n",
              "Name: is_applied, dtype: float64"
            ]
          },
          "execution_count": 10,
          "metadata": {},
          "output_type": "execute_result"
        }
      ],
      "source": [
        "data['is_applied'].value_counts() / len(data['is_applied'])"
      ]
    },
    {
      "cell_type": "markdown",
      "metadata": {
        "id": "w4di_M802snp"
      },
      "source": [
        "### correlation 확인\n",
        "1. Cramers V\n",
        "    * nominal variables에서 사용하는 correlation 계산 방법\n",
        "    * 비교 대상 변수 범주가 3개 이상인 경우에 사용  \n",
        "    * 결과 범위는 0 ~ 1 사이로 높을수록 상관관계가 높다고 해석됨.\n",
        "\n",
        "    https://www.kaggle.com/code/chrisbss1/cramer-s-v-correlation-matrix/notebook"
      ]
    },
    {
      "cell_type": "code",
      "execution_count": 131,
      "metadata": {},
      "outputs": [
        {
          "data": {
            "text/html": [
              "<div>\n",
              "<style scoped>\n",
              "    .dataframe tbody tr th:only-of-type {\n",
              "        vertical-align: middle;\n",
              "    }\n",
              "\n",
              "    .dataframe tbody tr th {\n",
              "        vertical-align: top;\n",
              "    }\n",
              "\n",
              "    .dataframe thead th {\n",
              "        text-align: right;\n",
              "    }\n",
              "</style>\n",
              "<table border=\"1\" class=\"dataframe\">\n",
              "  <thead>\n",
              "    <tr style=\"text-align: right;\">\n",
              "      <th></th>\n",
              "      <th>loanapply_insert_time</th>\n",
              "      <th>bank_id</th>\n",
              "      <th>product_id</th>\n",
              "      <th>income_type</th>\n",
              "      <th>employment_type</th>\n",
              "      <th>houseown_type</th>\n",
              "      <th>purpose</th>\n",
              "    </tr>\n",
              "  </thead>\n",
              "  <tbody>\n",
              "    <tr>\n",
              "      <th>0</th>\n",
              "      <td>2022-05-09 08:44:59</td>\n",
              "      <td>54</td>\n",
              "      <td>235</td>\n",
              "      <td>EARNEDINCOME</td>\n",
              "      <td>정규직</td>\n",
              "      <td>자가</td>\n",
              "      <td>생활비</td>\n",
              "    </tr>\n",
              "    <tr>\n",
              "      <th>1</th>\n",
              "      <td>2022-05-09 10:54:53</td>\n",
              "      <td>54</td>\n",
              "      <td>235</td>\n",
              "      <td>EARNEDINCOME</td>\n",
              "      <td>정규직</td>\n",
              "      <td>전월세</td>\n",
              "      <td>생활비</td>\n",
              "    </tr>\n",
              "    <tr>\n",
              "      <th>2</th>\n",
              "      <td>2022-05-09 10:54:53</td>\n",
              "      <td>11</td>\n",
              "      <td>118</td>\n",
              "      <td>EARNEDINCOME</td>\n",
              "      <td>정규직</td>\n",
              "      <td>전월세</td>\n",
              "      <td>생활비</td>\n",
              "    </tr>\n",
              "    <tr>\n",
              "      <th>3</th>\n",
              "      <td>2022-05-09 10:41:06</td>\n",
              "      <td>42</td>\n",
              "      <td>216</td>\n",
              "      <td>EARNEDINCOME</td>\n",
              "      <td>정규직</td>\n",
              "      <td>전월세</td>\n",
              "      <td>대환대출</td>\n",
              "    </tr>\n",
              "    <tr>\n",
              "      <th>4</th>\n",
              "      <td>2022-05-09 10:41:07</td>\n",
              "      <td>25</td>\n",
              "      <td>169</td>\n",
              "      <td>EARNEDINCOME</td>\n",
              "      <td>정규직</td>\n",
              "      <td>전월세</td>\n",
              "      <td>대환대출</td>\n",
              "    </tr>\n",
              "  </tbody>\n",
              "</table>\n",
              "</div>"
            ],
            "text/plain": [
              "  loanapply_insert_time  bank_id  product_id   income_type employment_type  \\\n",
              "0   2022-05-09 08:44:59       54         235  EARNEDINCOME             정규직   \n",
              "1   2022-05-09 10:54:53       54         235  EARNEDINCOME             정규직   \n",
              "2   2022-05-09 10:54:53       11         118  EARNEDINCOME             정규직   \n",
              "3   2022-05-09 10:41:06       42         216  EARNEDINCOME             정규직   \n",
              "4   2022-05-09 10:41:07       25         169  EARNEDINCOME             정규직   \n",
              "\n",
              "  houseown_type purpose  \n",
              "0            자가     생활비  \n",
              "1           전월세     생활비  \n",
              "2           전월세     생활비  \n",
              "3           전월세    대환대출  \n",
              "4           전월세    대환대출  "
            ]
          },
          "execution_count": 131,
          "metadata": {},
          "output_type": "execute_result"
        }
      ],
      "source": [
        "v = meta[(meta.level == 'nominal') & (meta.keep)].index\n",
        "cat_data = data[v]\n",
        "cat_data.head()"
      ]
    },
    {
      "cell_type": "code",
      "execution_count": 130,
      "metadata": {},
      "outputs": [
        {
          "data": {
            "text/html": [
              "<div>\n",
              "<style scoped>\n",
              "    .dataframe tbody tr th:only-of-type {\n",
              "        vertical-align: middle;\n",
              "    }\n",
              "\n",
              "    .dataframe tbody tr th {\n",
              "        vertical-align: top;\n",
              "    }\n",
              "\n",
              "    .dataframe thead th {\n",
              "        text-align: right;\n",
              "    }\n",
              "</style>\n",
              "<table border=\"1\" class=\"dataframe\">\n",
              "  <thead>\n",
              "    <tr style=\"text-align: right;\">\n",
              "      <th></th>\n",
              "      <th>loanapply_insert_time</th>\n",
              "      <th>bank_id</th>\n",
              "      <th>product_id</th>\n",
              "      <th>income_type</th>\n",
              "      <th>employment_type</th>\n",
              "      <th>houseown_type</th>\n",
              "      <th>purpose</th>\n",
              "    </tr>\n",
              "  </thead>\n",
              "  <tbody>\n",
              "    <tr>\n",
              "      <th>0</th>\n",
              "      <td>1768163</td>\n",
              "      <td>51</td>\n",
              "      <td>150</td>\n",
              "      <td>0</td>\n",
              "      <td>3</td>\n",
              "      <td>2</td>\n",
              "      <td>11</td>\n",
              "    </tr>\n",
              "    <tr>\n",
              "      <th>1</th>\n",
              "      <td>1773382</td>\n",
              "      <td>51</td>\n",
              "      <td>150</td>\n",
              "      <td>0</td>\n",
              "      <td>3</td>\n",
              "      <td>3</td>\n",
              "      <td>11</td>\n",
              "    </tr>\n",
              "    <tr>\n",
              "      <th>2</th>\n",
              "      <td>1773382</td>\n",
              "      <td>10</td>\n",
              "      <td>72</td>\n",
              "      <td>0</td>\n",
              "      <td>3</td>\n",
              "      <td>3</td>\n",
              "      <td>11</td>\n",
              "    </tr>\n",
              "    <tr>\n",
              "      <th>3</th>\n",
              "      <td>1772751</td>\n",
              "      <td>41</td>\n",
              "      <td>135</td>\n",
              "      <td>0</td>\n",
              "      <td>3</td>\n",
              "      <td>3</td>\n",
              "      <td>9</td>\n",
              "    </tr>\n",
              "    <tr>\n",
              "      <th>4</th>\n",
              "      <td>1772752</td>\n",
              "      <td>24</td>\n",
              "      <td>106</td>\n",
              "      <td>0</td>\n",
              "      <td>3</td>\n",
              "      <td>3</td>\n",
              "      <td>9</td>\n",
              "    </tr>\n",
              "  </tbody>\n",
              "</table>\n",
              "</div>"
            ],
            "text/plain": [
              "   loanapply_insert_time  bank_id  product_id  income_type  employment_type  \\\n",
              "0                1768163       51         150            0                3   \n",
              "1                1773382       51         150            0                3   \n",
              "2                1773382       10          72            0                3   \n",
              "3                1772751       41         135            0                3   \n",
              "4                1772752       24         106            0                3   \n",
              "\n",
              "   houseown_type  purpose  \n",
              "0              2       11  \n",
              "1              3       11  \n",
              "2              3       11  \n",
              "3              3        9  \n",
              "4              3        9  "
            ]
          },
          "execution_count": 130,
          "metadata": {},
          "output_type": "execute_result"
        }
      ],
      "source": [
        "from sklearn import preprocessing\n",
        "\n",
        "label = preprocessing.LabelEncoder()\n",
        "data_encoded = pd.DataFrame()\n",
        "\n",
        "for f in cat_data.columns:\n",
        "    data_encoded[f] = label.fit_transform(cat_data[f])\n",
        "\n",
        "data_encoded.head()"
      ]
    },
    {
      "cell_type": "code",
      "execution_count": null,
      "metadata": {},
      "outputs": [],
      "source": [
        "from scipy.stats import chi2_contingency\n",
        "\n",
        "def cramers_V(var1,var2) :\n",
        "  crosstab =np.array(pd.crosstab(var1,var2, rownames=None, colnames=None)) # Cross table building\n",
        "  stat = chi2_contingency(crosstab)[0] # Keeping of the test statistic of the Chi2 test\n",
        "  obs = np.sum(crosstab) # Number of observations\n",
        "  mini = min(crosstab.shape)-1 # Take the minimum value between the columns and the rows of the cross table\n",
        "  return (stat/(obs*mini))"
      ]
    },
    {
      "cell_type": "markdown",
      "metadata": {
        "id": "jR4KzTkyfmrY"
      },
      "source": [
        "### 1. 어떤 은행에서 가장 많이 대출을 승인해줬을까?"
      ]
    },
    {
      "cell_type": "code",
      "execution_count": null,
      "metadata": {
        "colab": {
          "base_uri": "https://localhost:8080/",
          "height": 515
        },
        "id": "MLYN8keXcvcs",
        "outputId": "de53f2fc-2a54-4122-9b13-124375278bf6"
      },
      "outputs": [
        {
          "data": {
            "text/plain": [
              "<matplotlib.axes._subplots.AxesSubplot at 0x7f50f6aebf90>"
            ]
          },
          "execution_count": 14,
          "metadata": {},
          "output_type": "execute_result"
        },
        {
          "data": {
            "image/png": "[encoded data removed]",
            "text/plain": [
              "<Figure size 1080x576 with 1 Axes>"
            ]
          },
          "metadata": {
            "needs_background": "light"
          },
          "output_type": "display_data"
        }
      ],
      "source": [
        "v = (data\n",
        "     .loc[data['is_applied'] == 1]\n",
        "     .groupby('bank_id', as_index=False)\n",
        "     .count()[['bank_id', 'is_applied']]\n",
        "     .sort_values('is_applied', ascending=False))\n",
        "\n",
        "plt.figure(figsize=(15,8))\n",
        "sns.barplot(data=v, x='bank_id', y='is_applied', order=v['bank_id'])"
      ]
    },
    {
      "cell_type": "markdown",
      "metadata": {
        "id": "Gw7i5SvfhmjK"
      },
      "source": [
        "* 59번, 29번 은행에서 가장 많은 대출 승인을 해주었고, 그 뒤로 49, 38, 62, ... 순으로 많았다.\n",
        "* 대출 신청 건 수가 매우 적은 은행도 있었다. (16번 - 4건)\n",
        "* 각 은행별 대출 승인 비율로 확인해보자"
      ]
    },
    {
      "cell_type": "code",
      "execution_count": null,
      "metadata": {
        "colab": {
          "base_uri": "https://localhost:8080/",
          "height": 515
        },
        "id": "BW-2O7mxkCZv",
        "outputId": "55390b85-6aaf-4f47-d9e4-1b9af4cabbfc"
      },
      "outputs": [
        {
          "data": {
            "text/plain": [
              "<matplotlib.axes._subplots.AxesSubplot at 0x7f50f718dc10>"
            ]
          },
          "execution_count": 15,
          "metadata": {},
          "output_type": "execute_result"
        },
        {
          "data": {
            "image/png": "[encoded data removed]",
            "text/plain": [
              "<Figure size 1080x576 with 1 Axes>"
            ]
          },
          "metadata": {
            "needs_background": "light"
          },
          "output_type": "display_data"
        }
      ],
      "source": [
        "applied = (data.loc[data['is_applied'] == 1, ['bank_id', 'is_applied']]\n",
        "           .groupby('bank_id', as_index=False)\n",
        "           .count()[['bank_id', 'is_applied']]\n",
        "           )\n",
        "ratio = (data[['bank_id', 'is_applied']]\n",
        "         .groupby('bank_id', as_index=False)\n",
        "         .count()[['bank_id', 'is_applied']]\n",
        "         )\n",
        "\n",
        "ratio['is_applied'] = applied['is_applied'] / ratio['is_applied']\n",
        "v = ratio.sort_values('is_applied', ascending=False)\n",
        "del applied\n",
        "del ratio\n",
        "\n",
        "plt.figure(figsize=(15, 8))\n",
        "sns.barplot(data=v, x='bank_id', y='is_applied', order=v['bank_id'])"
      ]
    },
    {
      "cell_type": "markdown",
      "metadata": {
        "id": "K5bVhOIEmFaI"
      },
      "source": [
        "* 16번은 대출 승인 건수가 가장 적었지만 대부분 승인해주었던 것을 알 수 있다.\n",
        "* 대부분의 대출 승인 비율은 0.1을 넘지 않는다. (imbalanced를 다시 한번 확인하였음)"
      ]
    },
    {
      "cell_type": "markdown",
      "metadata": {
        "id": "-VGnh_L_gTTy"
      },
      "source": [
        "그렇다면 대출 신청 건수가 많은 은행들은 적은 은행들과 무슨 차이가 있을까? (매력적인 대출 상품들이 있을까?)  \n",
        "또 대출 승인 비율이 높은 은행은 그 이유가 무엇일까? (고객의 특수성인가 또는 제1,2 금융권이 아닌 은행들일까?)"
      ]
    },
    {
      "cell_type": "code",
      "execution_count": null,
      "metadata": {
        "colab": {
          "base_uri": "https://localhost:8080/",
          "height": 708
        },
        "id": "UyY5kx2txO3K",
        "outputId": "d2e86399-4ab9-41f3-f184-1016348fca21"
      },
      "outputs": [
        {
          "data": {
            "text/html": [
              "\n",
              "  <div id=\"df-ad4bff72-006d-43c9-904e-fde4f87a4682\">\n",
              "    <div class=\"colab-df-container\">\n",
              "      <div>\n",
              "<style scoped>\n",
              "    .dataframe tbody tr th:only-of-type {\n",
              "        vertical-align: middle;\n",
              "    }\n",
              "\n",
              "    .dataframe tbody tr th {\n",
              "        vertical-align: top;\n",
              "    }\n",
              "\n",
              "    .dataframe thead th {\n",
              "        text-align: right;\n",
              "    }\n",
              "</style>\n",
              "<table border=\"1\" class=\"dataframe\">\n",
              "  <thead>\n",
              "    <tr style=\"text-align: right;\">\n",
              "      <th></th>\n",
              "      <th>product_id</th>\n",
              "    </tr>\n",
              "    <tr>\n",
              "      <th>bank_id</th>\n",
              "      <th></th>\n",
              "    </tr>\n",
              "  </thead>\n",
              "  <tbody>\n",
              "    <tr>\n",
              "      <th>35</th>\n",
              "      <td>14</td>\n",
              "    </tr>\n",
              "    <tr>\n",
              "      <th>55</th>\n",
              "      <td>11</td>\n",
              "    </tr>\n",
              "    <tr>\n",
              "      <th>34</th>\n",
              "      <td>8</td>\n",
              "    </tr>\n",
              "    <tr>\n",
              "      <th>30</th>\n",
              "      <td>7</td>\n",
              "    </tr>\n",
              "    <tr>\n",
              "      <th>36</th>\n",
              "      <td>6</td>\n",
              "    </tr>\n",
              "    <tr>\n",
              "      <th>25</th>\n",
              "      <td>5</td>\n",
              "    </tr>\n",
              "    <tr>\n",
              "      <th>24</th>\n",
              "      <td>5</td>\n",
              "    </tr>\n",
              "    <tr>\n",
              "      <th>38</th>\n",
              "      <td>5</td>\n",
              "    </tr>\n",
              "    <tr>\n",
              "      <th>47</th>\n",
              "      <td>4</td>\n",
              "    </tr>\n",
              "    <tr>\n",
              "      <th>2</th>\n",
              "      <td>4</td>\n",
              "    </tr>\n",
              "    <tr>\n",
              "      <th>29</th>\n",
              "      <td>4</td>\n",
              "    </tr>\n",
              "    <tr>\n",
              "      <th>42</th>\n",
              "      <td>4</td>\n",
              "    </tr>\n",
              "    <tr>\n",
              "      <th>22</th>\n",
              "      <td>4</td>\n",
              "    </tr>\n",
              "    <tr>\n",
              "      <th>49</th>\n",
              "      <td>4</td>\n",
              "    </tr>\n",
              "    <tr>\n",
              "      <th>27</th>\n",
              "      <td>4</td>\n",
              "    </tr>\n",
              "    <tr>\n",
              "      <th>19</th>\n",
              "      <td>3</td>\n",
              "    </tr>\n",
              "    <tr>\n",
              "      <th>44</th>\n",
              "      <td>3</td>\n",
              "    </tr>\n",
              "    <tr>\n",
              "      <th>20</th>\n",
              "      <td>3</td>\n",
              "    </tr>\n",
              "    <tr>\n",
              "      <th>31</th>\n",
              "      <td>3</td>\n",
              "    </tr>\n",
              "    <tr>\n",
              "      <th>3</th>\n",
              "      <td>3</td>\n",
              "    </tr>\n",
              "  </tbody>\n",
              "</table>\n",
              "</div>\n",
              "      <button class=\"colab-df-convert\" onclick=\"convertToInteractive('df-ad4bff72-006d-43c9-904e-fde4f87a4682')\"\n",
              "              title=\"Convert this dataframe to an interactive table.\"\n",
              "              style=\"display:none;\">\n",
              "        \n",
              "  <svg xmlns=\"http://www.w3.org/2000/svg\" height=\"24px\"viewBox=\"0 0 24 24\"\n",
              "       width=\"24px\">\n",
              "    <path d=\"M0 0h24v24H0V0z\" fill=\"none\"/>\n",
              "    <path d=\"M18.56 5.44l.94 2.06.94-2.06 2.06-.94-2.06-.94-.94-2.06-.94 2.06-2.06.94zm-11 1L8.5 8.5l.94-2.06 2.06-.94-2.06-.94L8.5 2.5l-.94 2.06-2.06.94zm10 10l.94 2.06.94-2.06 2.06-.94-2.06-.94-.94-2.06-.94 2.06-2.06.94z\"/><path d=\"M17.41 7.96l-1.37-1.37c-.4-.4-.92-.59-1.43-.59-.52 0-1.04.2-1.43.59L10.3 9.45l-7.72 7.72c-.78.78-.78 2.05 0 2.83L4 21.41c.39.39.9.59 1.41.59.51 0 1.02-.2 1.41-.59l7.78-7.78 2.81-2.81c.8-.78.8-2.07 0-2.86zM5.41 20L4 18.59l7.72-7.72 1.47 1.35L5.41 20z\"/>\n",
              "  </svg>\n",
              "      </button>\n",
              "      \n",
              "  <style>\n",
              "    .colab-df-container {\n",
              "      display:flex;\n",
              "      flex-wrap:wrap;\n",
              "      gap: 12px;\n",
              "    }\n",
              "\n",
              "    .colab-df-convert {\n",
              "      background-color: #E8F0FE;\n",
              "      border: none;\n",
              "      border-radius: 50%;\n",
              "      cursor: pointer;\n",
              "      display: none;\n",
              "      fill: #1967D2;\n",
              "      height: 32px;\n",
              "      padding: 0 0 0 0;\n",
              "      width: 32px;\n",
              "    }\n",
              "\n",
              "    .colab-df-convert:hover {\n",
              "      background-color: #E2EBFA;\n",
              "      box-shadow: 0px 1px 2px rgba(60, 64, 67, 0.3), 0px 1px 3px 1px rgba(60, 64, 67, 0.15);\n",
              "      fill: #174EA6;\n",
              "    }\n",
              "\n",
              "    [theme=dark] .colab-df-convert {\n",
              "      background-color: #3B4455;\n",
              "      fill: #D2E3FC;\n",
              "    }\n",
              "\n",
              "    [theme=dark] .colab-df-convert:hover {\n",
              "      background-color: #434B5C;\n",
              "      box-shadow: 0px 1px 3px 1px rgba(0, 0, 0, 0.15);\n",
              "      filter: drop-shadow(0px 1px 2px rgba(0, 0, 0, 0.3));\n",
              "      fill: #FFFFFF;\n",
              "    }\n",
              "  </style>\n",
              "\n",
              "      <script>\n",
              "        const buttonEl =\n",
              "          document.querySelector('#df-ad4bff72-006d-43c9-904e-fde4f87a4682 button.colab-df-convert');\n",
              "        buttonEl.style.display =\n",
              "          google.colab.kernel.accessAllowed ? 'block' : 'none';\n",
              "\n",
              "        async function convertToInteractive(key) {\n",
              "          const element = document.querySelector('#df-ad4bff72-006d-43c9-904e-fde4f87a4682');\n",
              "          const dataTable =\n",
              "            await google.colab.kernel.invokeFunction('convertToInteractive',\n",
              "                                                     [key], {});\n",
              "          if (!dataTable) return;\n",
              "\n",
              "          const docLinkHtml = 'Like what you see? Visit the ' +\n",
              "            '<a target=\"_blank\" href=https://colab.research.google.com/notebooks/data_table.ipynb>data table notebook</a>'\n",
              "            + ' to learn more about interactive tables.';\n",
              "          element.innerHTML = '';\n",
              "          dataTable['output_type'] = 'display_data';\n",
              "          await google.colab.output.renderOutput(dataTable, element);\n",
              "          const docLink = document.createElement('div');\n",
              "          docLink.innerHTML = docLinkHtml;\n",
              "          element.appendChild(docLink);\n",
              "        }\n",
              "      </script>\n",
              "    </div>\n",
              "  </div>\n",
              "  "
            ],
            "text/plain": [
              "         product_id\n",
              "bank_id            \n",
              "35               14\n",
              "55               11\n",
              "34                8\n",
              "30                7\n",
              "36                6\n",
              "25                5\n",
              "24                5\n",
              "38                5\n",
              "47                4\n",
              "2                 4\n",
              "29                4\n",
              "42                4\n",
              "22                4\n",
              "49                4\n",
              "27                4\n",
              "19                3\n",
              "44                3\n",
              "20                3\n",
              "31                3\n",
              "3                 3"
            ]
          },
          "execution_count": 52,
          "metadata": {},
          "output_type": "execute_result"
        }
      ],
      "source": [
        "v = (data[['bank_id', 'product_id']]\n",
        "     .drop_duplicates() # 은행별 서로 다른 대출 상품 수를 보기 위해\n",
        "     .groupby('bank_id')\n",
        "     .count()\n",
        "     .sort_values('product_id', ascending=False))\n",
        "v[:20]"
      ]
    },
    {
      "cell_type": "markdown",
      "metadata": {
        "id": "_5UwS15Tn1MP"
      },
      "source": [
        "### 2. 소득 유형에 따른 대출 승인 건 수의 차이가 있을까?"
      ]
    },
    {
      "cell_type": "code",
      "execution_count": null,
      "metadata": {
        "colab": {
          "base_uri": "https://localhost:8080/",
          "height": 527
        },
        "id": "Hbeb5X1ioBxu",
        "outputId": "3abbe2b3-b4b7-4bd1-a588-d40f03feda6f"
      },
      "outputs": [
        {
          "data": {
            "text/plain": [
              "<matplotlib.axes._subplots.AxesSubplot at 0x7f4e69f31c90>"
            ]
          },
          "execution_count": 52,
          "metadata": {},
          "output_type": "execute_result"
        },
        {
          "data": {
            "image/png": "[encoded data removed]",
            "text/plain": [
              "<Figure size 1080x576 with 1 Axes>"
            ]
          },
          "metadata": {},
          "output_type": "display_data"
        }
      ],
      "source": [
        "v = data[['income_type', 'is_applied']]\n",
        "\n",
        "plt.figure(figsize=(15, 8))\n",
        "sns.countplot(data=v, x='income_type', hue='is_applied')"
      ]
    },
    {
      "cell_type": "markdown",
      "metadata": {
        "id": "SqnOzMHtof0W"
      },
      "source": [
        "* 그래프에서 EARNEDINCOME의 0 비율이 너무 커서 잘 안보인다.\n",
        "* 로그스케일로 변환해보자"
      ]
    },
    {
      "cell_type": "code",
      "execution_count": null,
      "metadata": {
        "colab": {
          "base_uri": "https://localhost:8080/",
          "height": 498
        },
        "id": "64QIY2YooUPY",
        "outputId": "2e1b617c-d926-4e77-8751-391e898e9d3f"
      },
      "outputs": [
        {
          "data": {
            "image/png": "[encoded data removed]",
            "text/plain": [
              "<Figure size 1080x576 with 1 Axes>"
            ]
          },
          "metadata": {},
          "output_type": "display_data"
        }
      ],
      "source": [
        "fig, ax = plt.subplots(figsize=(15,8))\n",
        "sns.countplot(data=v, x='income_type', hue='is_applied', ax=ax)\n",
        "ax.set_yscale('log')"
      ]
    },
    {
      "cell_type": "code",
      "execution_count": 15,
      "metadata": {},
      "outputs": [
        {
          "data": {
            "text/plain": [
              "<AxesSubplot:xlabel='income_type', ylabel='is_applied'>"
            ]
          },
          "execution_count": 15,
          "metadata": {},
          "output_type": "execute_result"
        },
        {
          "data": {
            "image/png": "[encoded data removed]",
            "text/plain": [
              "<Figure size 1500x800 with 1 Axes>"
            ]
          },
          "metadata": {},
          "output_type": "display_data"
        }
      ],
      "source": [
        "applied = (data.loc[data['is_applied'] == 1, ['income_type', 'is_applied']]\n",
        "           .groupby('income_type', as_index=False)\n",
        "           .count()[['income_type', 'is_applied']]\n",
        "           )\n",
        "ratio = (data[['income_type', 'is_applied']]\n",
        "         .groupby('income_type', as_index=False)\n",
        "         .count()[['income_type', 'is_applied']]\n",
        "         )\n",
        "\n",
        "ratio['is_applied'] = applied['is_applied'] / ratio['is_applied']\n",
        "v = ratio.sort_values('is_applied', ascending=False)\n",
        "del applied\n",
        "del ratio\n",
        "\n",
        "fig, ax = plt.subplots(figsize=(15,8))\n",
        "sns.barplot(data=v, x='income_type', y='is_applied', ax=ax)\n"
      ]
    },
    {
      "cell_type": "markdown",
      "metadata": {
        "id": "1Cj6sNT5o9BZ"
      },
      "source": [
        "* EARNEDINCOME이 가장 많은 대출 신청을 하였고, 가장 많은 승인을 받았다.\n",
        "* PRACTITIONER가 가장 적은 대출 신청을 하였고, 가장 적은 승인을 받았다.\n",
        "* 승인 건 수는 EARNEDINCOME, EARNEDINCOME2, OTHERINCOME, PRIVATEBUSINESS, FREELANCER, PRACTITIONER 순으로 줄어든다.\n",
        "* **대출 승인이 되려면 역시 안정적인 수입원이 있어야 하는 것을 알 수 있다.**\n",
        "* 비율로 보면 오히려 잘 승인해주는 건 OTHERINCOME이다."
      ]
    },
    {
      "cell_type": "markdown",
      "metadata": {
        "id": "95IMc2U9pj1u"
      },
      "source": [
        "### 3. employment_type에 따른 대출 승인 건 수의 차이가 있을까?"
      ]
    },
    {
      "cell_type": "code",
      "execution_count": null,
      "metadata": {
        "colab": {
          "base_uri": "https://localhost:8080/",
          "height": 497
        },
        "id": "FXOQEHRDpjpx",
        "outputId": "4f6e0129-b680-44ba-c255-7be62074c59a"
      },
      "outputs": [
        {
          "data": {
            "image/png": "[encoded data removed]",
            "text/plain": [
              "<Figure size 1080x576 with 1 Axes>"
            ]
          },
          "metadata": {
            "needs_background": "light"
          },
          "output_type": "display_data"
        }
      ],
      "source": [
        "v = data[['employment_type', 'is_applied']]\n",
        "\n",
        "fig, ax = plt.subplots(figsize=(15, 8))\n",
        "sns.countplot(data=v, x='employment_type', hue='is_applied', ax=ax)\n",
        "ax.set_yscale('log')"
      ]
    },
    {
      "cell_type": "code",
      "execution_count": 10,
      "metadata": {},
      "outputs": [
        {
          "data": {
            "text/html": [
              "<div>\n",
              "<style scoped>\n",
              "    .dataframe tbody tr th:only-of-type {\n",
              "        vertical-align: middle;\n",
              "    }\n",
              "\n",
              "    .dataframe tbody tr th {\n",
              "        vertical-align: top;\n",
              "    }\n",
              "\n",
              "    .dataframe thead th {\n",
              "        text-align: right;\n",
              "    }\n",
              "</style>\n",
              "<table border=\"1\" class=\"dataframe\">\n",
              "  <thead>\n",
              "    <tr style=\"text-align: right;\">\n",
              "      <th></th>\n",
              "      <th>employment_type</th>\n",
              "      <th>is_applied</th>\n",
              "    </tr>\n",
              "  </thead>\n",
              "  <tbody>\n",
              "    <tr>\n",
              "      <th>1</th>\n",
              "      <td>기타</td>\n",
              "      <td>0.127123</td>\n",
              "    </tr>\n",
              "    <tr>\n",
              "      <th>2</th>\n",
              "      <td>일용직</td>\n",
              "      <td>0.087342</td>\n",
              "    </tr>\n",
              "    <tr>\n",
              "      <th>0</th>\n",
              "      <td>계약직</td>\n",
              "      <td>0.064042</td>\n",
              "    </tr>\n",
              "    <tr>\n",
              "      <th>3</th>\n",
              "      <td>정규직</td>\n",
              "      <td>0.045833</td>\n",
              "    </tr>\n",
              "  </tbody>\n",
              "</table>\n",
              "</div>"
            ],
            "text/plain": [
              "  employment_type  is_applied\n",
              "1              기타    0.127123\n",
              "2             일용직    0.087342\n",
              "0             계약직    0.064042\n",
              "3             정규직    0.045833"
            ]
          },
          "execution_count": 10,
          "metadata": {},
          "output_type": "execute_result"
        }
      ],
      "source": [
        "applied = (data.loc[data['is_applied'] == 1, ['employment_type', 'is_applied']]\n",
        "           .groupby('employment_type', as_index=False)\n",
        "           .count()[['employment_type', 'is_applied']]\n",
        "           )\n",
        "ratio = (data[['employment_type', 'is_applied']]\n",
        "         .groupby('employment_type', as_index=False)\n",
        "         .count()[['employment_type', 'is_applied']]\n",
        "         )\n",
        "\n",
        "ratio['is_applied'] = applied['is_applied'] / ratio['is_applied']\n",
        "v = ratio.sort_values('is_applied', ascending=False)\n",
        "del applied\n",
        "del ratio\n",
        "\n",
        "# fig, ax = plt.subplots(figsize=(15,8))\n",
        "# sns.barplot(data=v, x='employment_type', y='is_applied', ax=ax)\n",
        "v"
      ]
    },
    {
      "cell_type": "markdown",
      "metadata": {
        "id": "84GQi5bXq49u"
      },
      "source": [
        "* 역시 정규직이 가장 많은 승인을 받았고, 기타, 계약직, 일용직 순으로 줄어든다.  \n",
        "* 대출의 승인을 잘 받으려면 **대출 상환 능력(가능성)**을 우선시하는 것이 보인다."
      ]
    },
    {
      "cell_type": "markdown",
      "metadata": {
        "id": "hIpo6g9g6orA"
      },
      "source": [
        "### 집 소유 유형별 대출 승인 수 비교"
      ]
    },
    {
      "cell_type": "code",
      "execution_count": null,
      "metadata": {
        "colab": {
          "base_uri": "https://localhost:8080/",
          "height": 507
        },
        "id": "fm7GiEIX6uo3",
        "outputId": "c2e603a1-ab1a-4deb-e0ff-653e702ecb78"
      },
      "outputs": [
        {
          "data": {
            "image/png": "[encoded data removed]",
            "text/plain": [
              "<Figure size 1080x576 with 1 Axes>"
            ]
          },
          "metadata": {
            "needs_background": "light"
          },
          "output_type": "display_data"
        }
      ],
      "source": [
        "v = data[['houseown_type', 'is_applied']]\n",
        "\n",
        "plt.figure(figsize=(15,8))\n",
        "sns.countplot(data=v, x='houseown_type', hue='is_applied')\n",
        "plt.show()"
      ]
    },
    {
      "cell_type": "code",
      "execution_count": null,
      "metadata": {
        "colab": {
          "base_uri": "https://localhost:8080/",
          "height": 143
        },
        "id": "7JMsDQU18FH0",
        "outputId": "9a415e78-3266-4f21-c912-c1a546cdb865"
      },
      "outputs": [
        {
          "data": {
            "text/html": [
              "\n",
              "  <div id=\"df-3ef992a6-1b8a-4b38-a2e4-eb87b846aca7\">\n",
              "    <div class=\"colab-df-container\">\n",
              "      <div>\n",
              "<style scoped>\n",
              "    .dataframe tbody tr th:only-of-type {\n",
              "        vertical-align: middle;\n",
              "    }\n",
              "\n",
              "    .dataframe tbody tr th {\n",
              "        vertical-align: top;\n",
              "    }\n",
              "\n",
              "    .dataframe thead th {\n",
              "        text-align: right;\n",
              "    }\n",
              "</style>\n",
              "<table border=\"1\" class=\"dataframe\">\n",
              "  <thead>\n",
              "    <tr style=\"text-align: right;\">\n",
              "      <th>houseown_type</th>\n",
              "      <th>기타가족소유</th>\n",
              "      <th>배우자</th>\n",
              "      <th>자가</th>\n",
              "      <th>전월세</th>\n",
              "    </tr>\n",
              "    <tr>\n",
              "      <th>is_applied</th>\n",
              "      <th></th>\n",
              "      <th></th>\n",
              "      <th></th>\n",
              "      <th></th>\n",
              "    </tr>\n",
              "  </thead>\n",
              "  <tbody>\n",
              "    <tr>\n",
              "      <th>0.0</th>\n",
              "      <td>2602562</td>\n",
              "      <td>11796</td>\n",
              "      <td>2755208</td>\n",
              "      <td>4340109</td>\n",
              "    </tr>\n",
              "    <tr>\n",
              "      <th>1.0</th>\n",
              "      <td>184649</td>\n",
              "      <td>469</td>\n",
              "      <td>121072</td>\n",
              "      <td>254146</td>\n",
              "    </tr>\n",
              "  </tbody>\n",
              "</table>\n",
              "</div>\n",
              "      <button class=\"colab-df-convert\" onclick=\"convertToInteractive('df-3ef992a6-1b8a-4b38-a2e4-eb87b846aca7')\"\n",
              "              title=\"Convert this dataframe to an interactive table.\"\n",
              "              style=\"display:none;\">\n",
              "        \n",
              "  <svg xmlns=\"http://www.w3.org/2000/svg\" height=\"24px\"viewBox=\"0 0 24 24\"\n",
              "       width=\"24px\">\n",
              "    <path d=\"M0 0h24v24H0V0z\" fill=\"none\"/>\n",
              "    <path d=\"M18.56 5.44l.94 2.06.94-2.06 2.06-.94-2.06-.94-.94-2.06-.94 2.06-2.06.94zm-11 1L8.5 8.5l.94-2.06 2.06-.94-2.06-.94L8.5 2.5l-.94 2.06-2.06.94zm10 10l.94 2.06.94-2.06 2.06-.94-2.06-.94-.94-2.06-.94 2.06-2.06.94z\"/><path d=\"M17.41 7.96l-1.37-1.37c-.4-.4-.92-.59-1.43-.59-.52 0-1.04.2-1.43.59L10.3 9.45l-7.72 7.72c-.78.78-.78 2.05 0 2.83L4 21.41c.39.39.9.59 1.41.59.51 0 1.02-.2 1.41-.59l7.78-7.78 2.81-2.81c.8-.78.8-2.07 0-2.86zM5.41 20L4 18.59l7.72-7.72 1.47 1.35L5.41 20z\"/>\n",
              "  </svg>\n",
              "      </button>\n",
              "      \n",
              "  <style>\n",
              "    .colab-df-container {\n",
              "      display:flex;\n",
              "      flex-wrap:wrap;\n",
              "      gap: 12px;\n",
              "    }\n",
              "\n",
              "    .colab-df-convert {\n",
              "      background-color: #E8F0FE;\n",
              "      border: none;\n",
              "      border-radius: 50%;\n",
              "      cursor: pointer;\n",
              "      display: none;\n",
              "      fill: #1967D2;\n",
              "      height: 32px;\n",
              "      padding: 0 0 0 0;\n",
              "      width: 32px;\n",
              "    }\n",
              "\n",
              "    .colab-df-convert:hover {\n",
              "      background-color: #E2EBFA;\n",
              "      box-shadow: 0px 1px 2px rgba(60, 64, 67, 0.3), 0px 1px 3px 1px rgba(60, 64, 67, 0.15);\n",
              "      fill: #174EA6;\n",
              "    }\n",
              "\n",
              "    [theme=dark] .colab-df-convert {\n",
              "      background-color: #3B4455;\n",
              "      fill: #D2E3FC;\n",
              "    }\n",
              "\n",
              "    [theme=dark] .colab-df-convert:hover {\n",
              "      background-color: #434B5C;\n",
              "      box-shadow: 0px 1px 3px 1px rgba(0, 0, 0, 0.15);\n",
              "      filter: drop-shadow(0px 1px 2px rgba(0, 0, 0, 0.3));\n",
              "      fill: #FFFFFF;\n",
              "    }\n",
              "  </style>\n",
              "\n",
              "      <script>\n",
              "        const buttonEl =\n",
              "          document.querySelector('#df-3ef992a6-1b8a-4b38-a2e4-eb87b846aca7 button.colab-df-convert');\n",
              "        buttonEl.style.display =\n",
              "          google.colab.kernel.accessAllowed ? 'block' : 'none';\n",
              "\n",
              "        async function convertToInteractive(key) {\n",
              "          const element = document.querySelector('#df-3ef992a6-1b8a-4b38-a2e4-eb87b846aca7');\n",
              "          const dataTable =\n",
              "            await google.colab.kernel.invokeFunction('convertToInteractive',\n",
              "                                                     [key], {});\n",
              "          if (!dataTable) return;\n",
              "\n",
              "          const docLinkHtml = 'Like what you see? Visit the ' +\n",
              "            '<a target=\"_blank\" href=https://colab.research.google.com/notebooks/data_table.ipynb>data table notebook</a>'\n",
              "            + ' to learn more about interactive tables.';\n",
              "          element.innerHTML = '';\n",
              "          dataTable['output_type'] = 'display_data';\n",
              "          await google.colab.output.renderOutput(dataTable, element);\n",
              "          const docLink = document.createElement('div');\n",
              "          docLink.innerHTML = docLinkHtml;\n",
              "          element.appendChild(docLink);\n",
              "        }\n",
              "      </script>\n",
              "    </div>\n",
              "  </div>\n",
              "  "
            ],
            "text/plain": [
              "houseown_type   기타가족소유    배우자       자가      전월세\n",
              "is_applied                                     \n",
              "0.0            2602562  11796  2755208  4340109\n",
              "1.0             184649    469   121072   254146"
            ]
          },
          "execution_count": 82,
          "metadata": {},
          "output_type": "execute_result"
        }
      ],
      "source": [
        "pd.crosstab(data['is_applied'], data['houseown_type'])"
      ]
    },
    {
      "cell_type": "markdown",
      "metadata": {
        "id": "6Vc98N-b7ZPv"
      },
      "source": [
        "* 전체 신청자들 중에서는 전월세, 자가, 기타가족소유, 배우자 순으로 수가 많았다.\n",
        "* 집을 소유하고 있는 사람들의 수가 전월세의 수보다 더 많다.\n",
        "* 전월세로 사는 사람들이 대출을 더 많이 받았다."
      ]
    },
    {
      "cell_type": "markdown",
      "metadata": {
        "id": "1MTMTDirtBo7"
      },
      "source": [
        "### 4. 어떤 대출 목적이 대출 승인을 많이 받았을까?"
      ]
    },
    {
      "cell_type": "code",
      "execution_count": 12,
      "metadata": {
        "colab": {
          "base_uri": "https://localhost:8080/",
          "height": 497
        },
        "id": "jWC2s0NSpjni",
        "outputId": "2d7f58d3-6c16-4b06-93d0-cbab5cbb3800"
      },
      "outputs": [
        {
          "name": "stderr",
          "output_type": "stream",
          "text": [
            "/home/yongmin/.local/lib/python3.10/site-packages/IPython/core/events.py:89: UserWarning: Glyph 44592 (\\N{HANGUL SYLLABLE GI}) missing from current font.\n",
            "  func(*args, **kwargs)\n",
            "/home/yongmin/.local/lib/python3.10/site-packages/IPython/core/events.py:89: UserWarning: Glyph 53440 (\\N{HANGUL SYLLABLE TA}) missing from current font.\n",
            "  func(*args, **kwargs)\n",
            "/home/yongmin/.local/lib/python3.10/site-packages/IPython/core/events.py:89: UserWarning: Glyph 45824 (\\N{HANGUL SYLLABLE DAE}) missing from current font.\n",
            "  func(*args, **kwargs)\n",
            "/home/yongmin/.local/lib/python3.10/site-packages/IPython/core/events.py:89: UserWarning: Glyph 54872 (\\N{HANGUL SYLLABLE HWAN}) missing from current font.\n",
            "  func(*args, **kwargs)\n",
            "/home/yongmin/.local/lib/python3.10/site-packages/IPython/core/events.py:89: UserWarning: Glyph 52636 (\\N{HANGUL SYLLABLE CUL}) missing from current font.\n",
            "  func(*args, **kwargs)\n",
            "/home/yongmin/.local/lib/python3.10/site-packages/IPython/core/events.py:89: UserWarning: Glyph 49324 (\\N{HANGUL SYLLABLE SA}) missing from current font.\n",
            "  func(*args, **kwargs)\n",
            "/home/yongmin/.local/lib/python3.10/site-packages/IPython/core/events.py:89: UserWarning: Glyph 50629 (\\N{HANGUL SYLLABLE EOB}) missing from current font.\n",
            "  func(*args, **kwargs)\n",
            "/home/yongmin/.local/lib/python3.10/site-packages/IPython/core/events.py:89: UserWarning: Glyph 51088 (\\N{HANGUL SYLLABLE JA}) missing from current font.\n",
            "  func(*args, **kwargs)\n",
            "/home/yongmin/.local/lib/python3.10/site-packages/IPython/core/events.py:89: UserWarning: Glyph 44552 (\\N{HANGUL SYLLABLE GEUM}) missing from current font.\n",
            "  func(*args, **kwargs)\n",
            "/home/yongmin/.local/lib/python3.10/site-packages/IPython/core/events.py:89: UserWarning: Glyph 49373 (\\N{HANGUL SYLLABLE SAENG}) missing from current font.\n",
            "  func(*args, **kwargs)\n",
            "/home/yongmin/.local/lib/python3.10/site-packages/IPython/core/events.py:89: UserWarning: Glyph 54876 (\\N{HANGUL SYLLABLE HWAL}) missing from current font.\n",
            "  func(*args, **kwargs)\n",
            "/home/yongmin/.local/lib/python3.10/site-packages/IPython/core/events.py:89: UserWarning: Glyph 48708 (\\N{HANGUL SYLLABLE BI}) missing from current font.\n",
            "  func(*args, **kwargs)\n",
            "/home/yongmin/.local/lib/python3.10/site-packages/IPython/core/events.py:89: UserWarning: Glyph 46041 (\\N{HANGUL SYLLABLE DONG}) missing from current font.\n",
            "  func(*args, **kwargs)\n",
            "/home/yongmin/.local/lib/python3.10/site-packages/IPython/core/events.py:89: UserWarning: Glyph 52264 (\\N{HANGUL SYLLABLE CA}) missing from current font.\n",
            "  func(*args, **kwargs)\n",
            "/home/yongmin/.local/lib/python3.10/site-packages/IPython/core/events.py:89: UserWarning: Glyph 44396 (\\N{HANGUL SYLLABLE GU}) missing from current font.\n",
            "  func(*args, **kwargs)\n",
            "/home/yongmin/.local/lib/python3.10/site-packages/IPython/core/events.py:89: UserWarning: Glyph 51077 (\\N{HANGUL SYLLABLE IB}) missing from current font.\n",
            "  func(*args, **kwargs)\n",
            "/home/yongmin/.local/lib/python3.10/site-packages/IPython/core/events.py:89: UserWarning: Glyph 51204 (\\N{HANGUL SYLLABLE JEON}) missing from current font.\n",
            "  func(*args, **kwargs)\n",
            "/home/yongmin/.local/lib/python3.10/site-packages/IPython/core/events.py:89: UserWarning: Glyph 50900 (\\N{HANGUL SYLLABLE WEOL}) missing from current font.\n",
            "  func(*args, **kwargs)\n",
            "/home/yongmin/.local/lib/python3.10/site-packages/IPython/core/events.py:89: UserWarning: Glyph 49464 (\\N{HANGUL SYLLABLE SE}) missing from current font.\n",
            "  func(*args, **kwargs)\n",
            "/home/yongmin/.local/lib/python3.10/site-packages/IPython/core/events.py:89: UserWarning: Glyph 48372 (\\N{HANGUL SYLLABLE BO}) missing from current font.\n",
            "  func(*args, **kwargs)\n",
            "/home/yongmin/.local/lib/python3.10/site-packages/IPython/core/events.py:89: UserWarning: Glyph 51613 (\\N{HANGUL SYLLABLE JEUNG}) missing from current font.\n",
            "  func(*args, **kwargs)\n",
            "/home/yongmin/.local/lib/python3.10/site-packages/IPython/core/events.py:89: UserWarning: Glyph 51452 (\\N{HANGUL SYLLABLE JU}) missing from current font.\n",
            "  func(*args, **kwargs)\n",
            "/home/yongmin/.local/lib/python3.10/site-packages/IPython/core/events.py:89: UserWarning: Glyph 53469 (\\N{HANGUL SYLLABLE TAEG}) missing from current font.\n",
            "  func(*args, **kwargs)\n",
            "/home/yongmin/.local/lib/python3.10/site-packages/IPython/core/events.py:89: UserWarning: Glyph 53804 (\\N{HANGUL SYLLABLE TU}) missing from current font.\n",
            "  func(*args, **kwargs)\n",
            "/home/yongmin/.local/lib/python3.10/site-packages/IPython/core/pylabtools.py:151: UserWarning: Glyph 44592 (\\N{HANGUL SYLLABLE GI}) missing from current font.\n",
            "  fig.canvas.print_figure(bytes_io, **kw)\n",
            "/home/yongmin/.local/lib/python3.10/site-packages/IPython/core/pylabtools.py:151: UserWarning: Glyph 53440 (\\N{HANGUL SYLLABLE TA}) missing from current font.\n",
            "  fig.canvas.print_figure(bytes_io, **kw)\n",
            "/home/yongmin/.local/lib/python3.10/site-packages/IPython/core/pylabtools.py:151: UserWarning: Glyph 45824 (\\N{HANGUL SYLLABLE DAE}) missing from current font.\n",
            "  fig.canvas.print_figure(bytes_io, **kw)\n",
            "/home/yongmin/.local/lib/python3.10/site-packages/IPython/core/pylabtools.py:151: UserWarning: Glyph 54872 (\\N{HANGUL SYLLABLE HWAN}) missing from current font.\n",
            "  fig.canvas.print_figure(bytes_io, **kw)\n",
            "/home/yongmin/.local/lib/python3.10/site-packages/IPython/core/pylabtools.py:151: UserWarning: Glyph 52636 (\\N{HANGUL SYLLABLE CUL}) missing from current font.\n",
            "  fig.canvas.print_figure(bytes_io, **kw)\n",
            "/home/yongmin/.local/lib/python3.10/site-packages/IPython/core/pylabtools.py:151: UserWarning: Glyph 49324 (\\N{HANGUL SYLLABLE SA}) missing from current font.\n",
            "  fig.canvas.print_figure(bytes_io, **kw)\n",
            "/home/yongmin/.local/lib/python3.10/site-packages/IPython/core/pylabtools.py:151: UserWarning: Glyph 50629 (\\N{HANGUL SYLLABLE EOB}) missing from current font.\n",
            "  fig.canvas.print_figure(bytes_io, **kw)\n",
            "/home/yongmin/.local/lib/python3.10/site-packages/IPython/core/pylabtools.py:151: UserWarning: Glyph 51088 (\\N{HANGUL SYLLABLE JA}) missing from current font.\n",
            "  fig.canvas.print_figure(bytes_io, **kw)\n",
            "/home/yongmin/.local/lib/python3.10/site-packages/IPython/core/pylabtools.py:151: UserWarning: Glyph 44552 (\\N{HANGUL SYLLABLE GEUM}) missing from current font.\n",
            "  fig.canvas.print_figure(bytes_io, **kw)\n",
            "/home/yongmin/.local/lib/python3.10/site-packages/IPython/core/pylabtools.py:151: UserWarning: Glyph 49373 (\\N{HANGUL SYLLABLE SAENG}) missing from current font.\n",
            "  fig.canvas.print_figure(bytes_io, **kw)\n",
            "/home/yongmin/.local/lib/python3.10/site-packages/IPython/core/pylabtools.py:151: UserWarning: Glyph 54876 (\\N{HANGUL SYLLABLE HWAL}) missing from current font.\n",
            "  fig.canvas.print_figure(bytes_io, **kw)\n",
            "/home/yongmin/.local/lib/python3.10/site-packages/IPython/core/pylabtools.py:151: UserWarning: Glyph 48708 (\\N{HANGUL SYLLABLE BI}) missing from current font.\n",
            "  fig.canvas.print_figure(bytes_io, **kw)\n",
            "/home/yongmin/.local/lib/python3.10/site-packages/IPython/core/pylabtools.py:151: UserWarning: Glyph 46041 (\\N{HANGUL SYLLABLE DONG}) missing from current font.\n",
            "  fig.canvas.print_figure(bytes_io, **kw)\n",
            "/home/yongmin/.local/lib/python3.10/site-packages/IPython/core/pylabtools.py:151: UserWarning: Glyph 52264 (\\N{HANGUL SYLLABLE CA}) missing from current font.\n",
            "  fig.canvas.print_figure(bytes_io, **kw)\n",
            "/home/yongmin/.local/lib/python3.10/site-packages/IPython/core/pylabtools.py:151: UserWarning: Glyph 44396 (\\N{HANGUL SYLLABLE GU}) missing from current font.\n",
            "  fig.canvas.print_figure(bytes_io, **kw)\n",
            "/home/yongmin/.local/lib/python3.10/site-packages/IPython/core/pylabtools.py:151: UserWarning: Glyph 51077 (\\N{HANGUL SYLLABLE IB}) missing from current font.\n",
            "  fig.canvas.print_figure(bytes_io, **kw)\n",
            "/home/yongmin/.local/lib/python3.10/site-packages/IPython/core/pylabtools.py:151: UserWarning: Glyph 51204 (\\N{HANGUL SYLLABLE JEON}) missing from current font.\n",
            "  fig.canvas.print_figure(bytes_io, **kw)\n",
            "/home/yongmin/.local/lib/python3.10/site-packages/IPython/core/pylabtools.py:151: UserWarning: Glyph 50900 (\\N{HANGUL SYLLABLE WEOL}) missing from current font.\n",
            "  fig.canvas.print_figure(bytes_io, **kw)\n",
            "/home/yongmin/.local/lib/python3.10/site-packages/IPython/core/pylabtools.py:151: UserWarning: Glyph 49464 (\\N{HANGUL SYLLABLE SE}) missing from current font.\n",
            "  fig.canvas.print_figure(bytes_io, **kw)\n",
            "/home/yongmin/.local/lib/python3.10/site-packages/IPython/core/pylabtools.py:151: UserWarning: Glyph 48372 (\\N{HANGUL SYLLABLE BO}) missing from current font.\n",
            "  fig.canvas.print_figure(bytes_io, **kw)\n",
            "/home/yongmin/.local/lib/python3.10/site-packages/IPython/core/pylabtools.py:151: UserWarning: Glyph 51613 (\\N{HANGUL SYLLABLE JEUNG}) missing from current font.\n",
            "  fig.canvas.print_figure(bytes_io, **kw)\n",
            "/home/yongmin/.local/lib/python3.10/site-packages/IPython/core/pylabtools.py:151: UserWarning: Glyph 51452 (\\N{HANGUL SYLLABLE JU}) missing from current font.\n",
            "  fig.canvas.print_figure(bytes_io, **kw)\n",
            "/home/yongmin/.local/lib/python3.10/site-packages/IPython/core/pylabtools.py:151: UserWarning: Glyph 53469 (\\N{HANGUL SYLLABLE TAEG}) missing from current font.\n",
            "  fig.canvas.print_figure(bytes_io, **kw)\n",
            "/home/yongmin/.local/lib/python3.10/site-packages/IPython/core/pylabtools.py:151: UserWarning: Glyph 53804 (\\N{HANGUL SYLLABLE TU}) missing from current font.\n",
            "  fig.canvas.print_figure(bytes_io, **kw)\n"
          ]
        },
        {
          "data": {
            "image/png": "[encoded data removed]",
            "text/plain": [
              "<Figure size 1500x800 with 1 Axes>"
            ]
          },
          "metadata": {},
          "output_type": "display_data"
        }
      ],
      "source": [
        "v = data[['purpose', 'is_applied']]\n",
        "\n",
        "fig, ax = plt.subplots(figsize=(15, 8))\n",
        "sns.countplot(data=v, x='purpose', hue='is_applied', ax=ax)\n",
        "ax.set_yscale('log')"
      ]
    },
    {
      "cell_type": "markdown",
      "metadata": {
        "id": "ZAQuIdnluekh"
      },
      "source": [
        "* 생활비 승인이 가장 많았고, 대환대출, 사업자금, 기타, 전월세보증금 순으로 많다."
      ]
    },
    {
      "cell_type": "markdown",
      "metadata": {
        "id": "4w3jeUaetmgN"
      },
      "source": [
        "### 6. 개인 회생 여부별 대출 승인 수 차이가 있을까?"
      ]
    },
    {
      "cell_type": "code",
      "execution_count": null,
      "metadata": {
        "colab": {
          "base_uri": "https://localhost:8080/"
        },
        "id": "PM2x4vyFzAiJ",
        "outputId": "6695894f-aafd-42e2-f3d6-442aaf65a066"
      },
      "outputs": [
        {
          "name": "stdout",
          "output_type": "stream",
          "text": [
            "23051\n",
            "10270011\n",
            "10270011\n"
          ]
        }
      ],
      "source": [
        "print(len(data.loc[data['personal_rehabilitation_yn'] == 1.]))\n",
        "print(len(data['personal_rehabilitation_yn']))\n",
        "print(len(data['personal_rehabilitation_complete_yn']))"
      ]
    },
    {
      "cell_type": "code",
      "execution_count": null,
      "metadata": {
        "colab": {
          "base_uri": "https://localhost:8080/",
          "height": 525
        },
        "id": "vm_nWum-pjWu",
        "outputId": "a0472d1d-1e5e-48a9-f091-0f7b819f5398"
      },
      "outputs": [
        {
          "data": {
            "text/plain": [
              "<matplotlib.axes._subplots.AxesSubplot at 0x7f4a2e36d710>"
            ]
          },
          "execution_count": 53,
          "metadata": {},
          "output_type": "execute_result"
        },
        {
          "data": {
            "image/png": "[encoded data removed]",
            "text/plain": [
              "<Figure size 1080x576 with 1 Axes>"
            ]
          },
          "metadata": {
            "needs_background": "light"
          },
          "output_type": "display_data"
        }
      ],
      "source": [
        "v = data[['personal_rehabilitation_yn', 'is_applied']]\n",
        "v = v.fillna(-1.)\n",
        "\n",
        "plt.figure(figsize=(15, 8))\n",
        "sns.countplot(data=v, x='personal_rehabilitation_yn', hue='is_applied')"
      ]
    },
    {
      "cell_type": "markdown",
      "metadata": {
        "id": "70ZgX3zDvjbv"
      },
      "source": [
        "* 개인 회생 여부의 nan값을 -1로 대치하였다.\n",
        "* 개인 회생 신청을 했던 사람들은 대출조차 어려운 경우가 많다. (실제 대출 신청 수가 엄청 적은 것을 알 수 있음)"
      ]
    },
    {
      "cell_type": "markdown",
      "metadata": {
        "id": "wpG4aY7rh5s5"
      },
      "source": [
        "### 10. 성별에 따른 대출 승인 건 수의 차이가 있을까?"
      ]
    },
    {
      "cell_type": "code",
      "execution_count": null,
      "metadata": {
        "colab": {
          "base_uri": "https://localhost:8080/",
          "height": 470
        },
        "id": "bUKlePD2fg-k",
        "outputId": "b0b4169a-248f-4fd8-87a3-84d60d681099"
      },
      "outputs": [
        {
          "data": {
            "text/plain": [
              "<matplotlib.axes._subplots.AxesSubplot at 0x7f4e69287790>"
            ]
          },
          "execution_count": 60,
          "metadata": {},
          "output_type": "execute_result"
        },
        {
          "data": {
            "image/png": "[encoded data removed]",
            "text/plain": [
              "<Figure size 720x504 with 1 Axes>"
            ]
          },
          "metadata": {
            "needs_background": "light"
          },
          "output_type": "display_data"
        }
      ],
      "source": [
        "v = data[['gender', 'is_applied']]\n",
        "\n",
        "plt.figure(figsize=(10,7))\n",
        "sns.countplot(data=v, x='gender', hue='is_applied')"
      ]
    },
    {
      "cell_type": "markdown",
      "metadata": {
        "id": "N5tKSuoGnSoK"
      },
      "source": [
        "* 성별 1이 성별 0보다 대출 신청 건 수는 두 배 이상이며, 대출 승인 건 수도 약 두 배정도로 더 많다.  \n",
        "  \n",
        "\n",
        "* 성별에 따른 스펙 차이가 존재해서 승인 건 수도 차이가 나는 것은 아닐까?\n",
        "* 또는 성별 1이 주로 경제활동을 담당하고 있기 때문에 성별 1이 더 많이 대출 신청을 하는 것이 아닐까?"
      ]
    },
    {
      "cell_type": "code",
      "execution_count": 94,
      "metadata": {},
      "outputs": [
        {
          "data": {
            "text/plain": [
              "<AxesSubplot:xlabel='existing_loan_cnt', ylabel='percent'>"
            ]
          },
          "execution_count": 94,
          "metadata": {},
          "output_type": "execute_result"
        },
        {
          "data": {
            "image/png": "[encoded data removed]",
            "text/plain": [
              "<Figure size 640x480 with 1 Axes>"
            ]
          },
          "metadata": {},
          "output_type": "display_data"
        }
      ],
      "source": [
        "v = (data[['existing_loan_cnt', 'is_applied']]\n",
        ".groupby('existing_loan_cnt')['is_applied']\n",
        ".value_counts(normalize=True)\n",
        ".mul(100)\n",
        ".rename('percent')\n",
        ".reset_index())\n",
        "\n",
        "sns.histplot(data=v, x='existing_loan_cnt', y='percent', hue='is_applied')\n"
      ]
    },
    {
      "cell_type": "code",
      "execution_count": 96,
      "metadata": {},
      "outputs": [
        {
          "data": {
            "text/html": [
              "<div>\n",
              "<style scoped>\n",
              "    .dataframe tbody tr th:only-of-type {\n",
              "        vertical-align: middle;\n",
              "    }\n",
              "\n",
              "    .dataframe tbody tr th {\n",
              "        vertical-align: top;\n",
              "    }\n",
              "\n",
              "    .dataframe thead th {\n",
              "        text-align: right;\n",
              "    }\n",
              "</style>\n",
              "<table border=\"1\" class=\"dataframe\">\n",
              "  <thead>\n",
              "    <tr style=\"text-align: right;\">\n",
              "      <th></th>\n",
              "      <th>existing_loan_cnt</th>\n",
              "      <th>is_applied</th>\n",
              "      <th>percent</th>\n",
              "    </tr>\n",
              "  </thead>\n",
              "  <tbody>\n",
              "    <tr>\n",
              "      <th>existing_loan_cnt</th>\n",
              "      <td>1.00000</td>\n",
              "      <td>NaN</td>\n",
              "      <td>0.37424</td>\n",
              "    </tr>\n",
              "    <tr>\n",
              "      <th>is_applied</th>\n",
              "      <td>NaN</td>\n",
              "      <td>NaN</td>\n",
              "      <td>NaN</td>\n",
              "    </tr>\n",
              "    <tr>\n",
              "      <th>percent</th>\n",
              "      <td>0.37424</td>\n",
              "      <td>NaN</td>\n",
              "      <td>1.00000</td>\n",
              "    </tr>\n",
              "  </tbody>\n",
              "</table>\n",
              "</div>"
            ],
            "text/plain": [
              "                   existing_loan_cnt  is_applied  percent\n",
              "existing_loan_cnt            1.00000         NaN  0.37424\n",
              "is_applied                       NaN         NaN      NaN\n",
              "percent                      0.37424         NaN  1.00000"
            ]
          },
          "execution_count": 96,
          "metadata": {},
          "output_type": "execute_result"
        }
      ],
      "source": [
        "v.loc[v['is_applied']==1].corr()"
      ]
    },
    {
      "cell_type": "code",
      "execution_count": 97,
      "metadata": {},
      "outputs": [
        {
          "data": {
            "text/html": [
              "<div>\n",
              "<style scoped>\n",
              "    .dataframe tbody tr th:only-of-type {\n",
              "        vertical-align: middle;\n",
              "    }\n",
              "\n",
              "    .dataframe tbody tr th {\n",
              "        vertical-align: top;\n",
              "    }\n",
              "\n",
              "    .dataframe thead th {\n",
              "        text-align: right;\n",
              "    }\n",
              "</style>\n",
              "<table border=\"1\" class=\"dataframe\">\n",
              "  <thead>\n",
              "    <tr style=\"text-align: right;\">\n",
              "      <th></th>\n",
              "      <th>existing_loan_cnt</th>\n",
              "      <th>is_applied</th>\n",
              "      <th>percent</th>\n",
              "    </tr>\n",
              "  </thead>\n",
              "  <tbody>\n",
              "    <tr>\n",
              "      <th>existing_loan_cnt</th>\n",
              "      <td>1.000000</td>\n",
              "      <td>NaN</td>\n",
              "      <td>-0.272819</td>\n",
              "    </tr>\n",
              "    <tr>\n",
              "      <th>is_applied</th>\n",
              "      <td>NaN</td>\n",
              "      <td>NaN</td>\n",
              "      <td>NaN</td>\n",
              "    </tr>\n",
              "    <tr>\n",
              "      <th>percent</th>\n",
              "      <td>-0.272819</td>\n",
              "      <td>NaN</td>\n",
              "      <td>1.000000</td>\n",
              "    </tr>\n",
              "  </tbody>\n",
              "</table>\n",
              "</div>"
            ],
            "text/plain": [
              "                   existing_loan_cnt  is_applied   percent\n",
              "existing_loan_cnt           1.000000         NaN -0.272819\n",
              "is_applied                       NaN         NaN       NaN\n",
              "percent                    -0.272819         NaN  1.000000"
            ]
          },
          "execution_count": 97,
          "metadata": {},
          "output_type": "execute_result"
        }
      ],
      "source": [
        "v.loc[v['is_applied']==0].corr()"
      ]
    },
    {
      "cell_type": "markdown",
      "metadata": {
        "id": "sZzqXdGt0Bs4"
      },
      "source": [
        "**정리하면**, target 데이터는 매우 심한 imbalanced 데이터이며, 샘플링을 통해 처리해야 할 것이다.  \n",
        "또 대출 승인 여부는 해당 고객이 상환 가능성이 높은 경우에 주로 승인을 해주는 것을 알 수 있다.  \n"
      ]
    },
    {
      "cell_type": "markdown",
      "metadata": {
        "id": "jvsAZJjt0amD"
      },
      "source": [
        "# Interval (Numeric) Variables"
      ]
    },
    {
      "cell_type": "markdown",
      "metadata": {
        "id": "fdBab_Yb11hS"
      },
      "source": [
        "'application_id', 'loanapply_insert_time', 'bank_id', 'product_id',\n",
        "       'loan_limit', 'loan_rate', 'is_applied', 'month', 'user_id',\n",
        "       'birth_year', 'gender', 'insert_time', 'credit_score', 'yearly_income',\n",
        "       'income_type', 'company_enter_month', 'employment_type',\n",
        "       'houseown_type', 'desired_amount', 'purpose',\n",
        "       'personal_rehabilitation_yn', 'personal_rehabilitation_complete_yn',\n",
        "       'existing_loan_cnt', 'existing_loan_amt'"
      ]
    },
    {
      "cell_type": "markdown",
      "metadata": {
        "id": "Qt7nmz_E127v"
      },
      "source": [
        "### 상관관계 파악"
      ]
    },
    {
      "cell_type": "code",
      "execution_count": null,
      "metadata": {
        "id": "OQK7Y-aggvKc"
      },
      "outputs": [],
      "source": [
        "#v = meta[(meta.level == 'interval') & (meta.keep)].index"
      ]
    },
    {
      "cell_type": "markdown",
      "metadata": {
        "id": "Y8dxA0l22HD1"
      },
      "source": [
        "### 데이터 분포 파악"
      ]
    },
    {
      "cell_type": "code",
      "execution_count": null,
      "metadata": {
        "id": "9UO8lM0z2GGb"
      },
      "outputs": [],
      "source": []
    }
  ],
  "metadata": {
    "colab": {
      "collapsed_sections": [],
      "provenance": []
    },
    "kernelspec": {
      "display_name": "Python 3.10.4 64-bit",
      "language": "python",
      "name": "python3"
    },
    "language_info": {
      "codemirror_mode": {
        "name": "ipython",
        "version": 3
      },
      "file_extension": ".py",
      "mimetype": "text/x-python",
      "name": "python",
      "nbconvert_exporter": "python",
      "pygments_lexer": "ipython3",
      "version": "3.10.4"
    },
    "vscode": {
      "interpreter": {
        "hash": "916dbcbb3f70747c44a77c7bcd40155683ae19c65e1c03b4aa3499c5328201f1"
      }
    }
  },
  "nbformat": 4,
  "nbformat_minor": 0
}
