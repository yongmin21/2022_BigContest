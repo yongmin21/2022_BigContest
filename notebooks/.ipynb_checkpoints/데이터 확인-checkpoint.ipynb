{
 "cells": [
  {
   "cell_type": "code",
   "execution_count": 42,
   "id": "a47c13eb",
   "metadata": {},
   "outputs": [],
   "source": [
    "import pandas as pd\n",
    "import numpy as np\n",
    "import matplotlib.pyplot as plt\n",
    "import seaborn as sns\n",
    "\n",
    "pd.set_option('display.max_columns', 100)\n",
    "pd.options.display.float_format = '{:.5f}'.format"
   ]
  },
  {
   "cell_type": "code",
   "execution_count": 7,
   "id": "8eb0f200",
   "metadata": {},
   "outputs": [],
   "source": [
    "# !pip install pyarrow"
   ]
  },
  {
   "cell_type": "markdown",
   "id": "f2345c21",
   "metadata": {},
   "source": [
    "# 데이터 확인\n",
    "* loan result "
   ]
  },
  {
   "cell_type": "code",
   "execution_count": 8,
   "id": "cfe47e3d",
   "metadata": {
    "scrolled": false
   },
   "outputs": [
    {
     "data": {
      "text/html": [
       "<div>\n",
       "<style scoped>\n",
       "    .dataframe tbody tr th:only-of-type {\n",
       "        vertical-align: middle;\n",
       "    }\n",
       "\n",
       "    .dataframe tbody tr th {\n",
       "        vertical-align: top;\n",
       "    }\n",
       "\n",
       "    .dataframe thead th {\n",
       "        text-align: right;\n",
       "    }\n",
       "</style>\n",
       "<table border=\"1\" class=\"dataframe\">\n",
       "  <thead>\n",
       "    <tr style=\"text-align: right;\">\n",
       "      <th></th>\n",
       "      <th>application_id</th>\n",
       "      <th>loanapply_insert_time</th>\n",
       "      <th>bank_id</th>\n",
       "      <th>product_id</th>\n",
       "      <th>loan_limit</th>\n",
       "      <th>loan_rate</th>\n",
       "      <th>is_applied</th>\n",
       "    </tr>\n",
       "  </thead>\n",
       "  <tbody>\n",
       "    <tr>\n",
       "      <th>0</th>\n",
       "      <td>1748340</td>\n",
       "      <td>2022-06-07 13:05:41</td>\n",
       "      <td>7</td>\n",
       "      <td>191</td>\n",
       "      <td>42000000.0</td>\n",
       "      <td>13.6</td>\n",
       "      <td>NaN</td>\n",
       "    </tr>\n",
       "    <tr>\n",
       "      <th>1</th>\n",
       "      <td>1748340</td>\n",
       "      <td>2022-06-07 13:05:41</td>\n",
       "      <td>25</td>\n",
       "      <td>169</td>\n",
       "      <td>24000000.0</td>\n",
       "      <td>17.9</td>\n",
       "      <td>NaN</td>\n",
       "    </tr>\n",
       "    <tr>\n",
       "      <th>2</th>\n",
       "      <td>1748340</td>\n",
       "      <td>2022-06-07 13:05:41</td>\n",
       "      <td>2</td>\n",
       "      <td>7</td>\n",
       "      <td>24000000.0</td>\n",
       "      <td>18.5</td>\n",
       "      <td>NaN</td>\n",
       "    </tr>\n",
       "    <tr>\n",
       "      <th>3</th>\n",
       "      <td>1748340</td>\n",
       "      <td>2022-06-07 13:05:41</td>\n",
       "      <td>4</td>\n",
       "      <td>268</td>\n",
       "      <td>29000000.0</td>\n",
       "      <td>10.8</td>\n",
       "      <td>NaN</td>\n",
       "    </tr>\n",
       "    <tr>\n",
       "      <th>4</th>\n",
       "      <td>1748340</td>\n",
       "      <td>2022-06-07 13:05:41</td>\n",
       "      <td>11</td>\n",
       "      <td>118</td>\n",
       "      <td>5000000.0</td>\n",
       "      <td>16.4</td>\n",
       "      <td>NaN</td>\n",
       "    </tr>\n",
       "    <tr>\n",
       "      <th>...</th>\n",
       "      <td>...</td>\n",
       "      <td>...</td>\n",
       "      <td>...</td>\n",
       "      <td>...</td>\n",
       "      <td>...</td>\n",
       "      <td>...</td>\n",
       "      <td>...</td>\n",
       "    </tr>\n",
       "    <tr>\n",
       "      <th>13527358</th>\n",
       "      <td>1428218</td>\n",
       "      <td>2022-06-03 12:01:58</td>\n",
       "      <td>62</td>\n",
       "      <td>200</td>\n",
       "      <td>3000000.0</td>\n",
       "      <td>14.8</td>\n",
       "      <td>NaN</td>\n",
       "    </tr>\n",
       "    <tr>\n",
       "      <th>13527359</th>\n",
       "      <td>1428218</td>\n",
       "      <td>2022-06-03 12:01:49</td>\n",
       "      <td>2</td>\n",
       "      <td>7</td>\n",
       "      <td>40000000.0</td>\n",
       "      <td>11.8</td>\n",
       "      <td>NaN</td>\n",
       "    </tr>\n",
       "    <tr>\n",
       "      <th>13527360</th>\n",
       "      <td>1428218</td>\n",
       "      <td>2022-06-03 12:01:48</td>\n",
       "      <td>32</td>\n",
       "      <td>257</td>\n",
       "      <td>15000000.0</td>\n",
       "      <td>7.2</td>\n",
       "      <td>NaN</td>\n",
       "    </tr>\n",
       "    <tr>\n",
       "      <th>13527361</th>\n",
       "      <td>1428218</td>\n",
       "      <td>2022-06-03 12:01:48</td>\n",
       "      <td>33</td>\n",
       "      <td>110</td>\n",
       "      <td>44000000.0</td>\n",
       "      <td>13.5</td>\n",
       "      <td>NaN</td>\n",
       "    </tr>\n",
       "    <tr>\n",
       "      <th>13527362</th>\n",
       "      <td>1428218</td>\n",
       "      <td>2022-06-03 12:01:48</td>\n",
       "      <td>5</td>\n",
       "      <td>194</td>\n",
       "      <td>44000000.0</td>\n",
       "      <td>9.7</td>\n",
       "      <td>NaN</td>\n",
       "    </tr>\n",
       "  </tbody>\n",
       "</table>\n",
       "<p>13527363 rows × 7 columns</p>\n",
       "</div>"
      ],
      "text/plain": [
       "          application_id loanapply_insert_time  bank_id  product_id  \\\n",
       "0                1748340   2022-06-07 13:05:41        7         191   \n",
       "1                1748340   2022-06-07 13:05:41       25         169   \n",
       "2                1748340   2022-06-07 13:05:41        2           7   \n",
       "3                1748340   2022-06-07 13:05:41        4         268   \n",
       "4                1748340   2022-06-07 13:05:41       11         118   \n",
       "...                  ...                   ...      ...         ...   \n",
       "13527358         1428218   2022-06-03 12:01:58       62         200   \n",
       "13527359         1428218   2022-06-03 12:01:49        2           7   \n",
       "13527360         1428218   2022-06-03 12:01:48       32         257   \n",
       "13527361         1428218   2022-06-03 12:01:48       33         110   \n",
       "13527362         1428218   2022-06-03 12:01:48        5         194   \n",
       "\n",
       "          loan_limit  loan_rate  is_applied  \n",
       "0         42000000.0       13.6         NaN  \n",
       "1         24000000.0       17.9         NaN  \n",
       "2         24000000.0       18.5         NaN  \n",
       "3         29000000.0       10.8         NaN  \n",
       "4          5000000.0       16.4         NaN  \n",
       "...              ...        ...         ...  \n",
       "13527358   3000000.0       14.8         NaN  \n",
       "13527359  40000000.0       11.8         NaN  \n",
       "13527360  15000000.0        7.2         NaN  \n",
       "13527361  44000000.0       13.5         NaN  \n",
       "13527362  44000000.0        9.7         NaN  \n",
       "\n",
       "[13527363 rows x 7 columns]"
      ]
     },
     "execution_count": 8,
     "metadata": {},
     "output_type": "execute_result"
    }
   ],
   "source": [
    "loan_result=pd.read_parquet('../data/loan_result.parquet',engine='pyarrow')\n",
    "loan_result"
   ]
  },
  {
   "cell_type": "code",
   "execution_count": 19,
   "id": "228c5418",
   "metadata": {
    "scrolled": true
   },
   "outputs": [
    {
     "name": "stdout",
     "output_type": "stream",
     "text": [
      "<class 'pandas.core.frame.DataFrame'>\n",
      "RangeIndex: 13527363 entries, 0 to 13527362\n",
      "Data columns (total 7 columns):\n",
      " #   Column                 Dtype         \n",
      "---  ------                 -----         \n",
      " 0   application_id         int32         \n",
      " 1   loanapply_insert_time  datetime64[ns]\n",
      " 2   bank_id                int8          \n",
      " 3   product_id             int16         \n",
      " 4   loan_limit             float32       \n",
      " 5   loan_rate              float32       \n",
      " 6   is_applied             float32       \n",
      "dtypes: datetime64[ns](1), float32(3), int16(1), int32(1), int8(1)\n",
      "memory usage: 348.3 MB\n"
     ]
    }
   ],
   "source": [
    "loan_result.info()"
   ]
  },
  {
   "cell_type": "code",
   "execution_count": 21,
   "id": "8bf0b67f",
   "metadata": {},
   "outputs": [
    {
     "data": {
      "text/plain": [
       "application_id                 0\n",
       "loanapply_insert_time          0\n",
       "bank_id                        0\n",
       "product_id                     0\n",
       "loan_limit                  7495\n",
       "loan_rate                   7495\n",
       "is_applied               3257239\n",
       "dtype: int64"
      ]
     },
     "execution_count": 21,
     "metadata": {},
     "output_type": "execute_result"
    }
   ],
   "source": [
    "loan_result.isna().sum()"
   ]
  },
  {
   "cell_type": "markdown",
   "id": "6c15cd77",
   "metadata": {},
   "source": [
    "#### 결측치 상태\n",
    "* 대출 한도와 대출 금리에 7495개 \n",
    "* 신청여부(target)에 3257239개"
   ]
  },
  {
   "cell_type": "code",
   "execution_count": 10,
   "id": "a50ac098",
   "metadata": {},
   "outputs": [
    {
     "data": {
      "text/plain": [
       "(13527363, 7)"
      ]
     },
     "execution_count": 10,
     "metadata": {},
     "output_type": "execute_result"
    }
   ],
   "source": [
    "loan_result.shape"
   ]
  },
  {
   "cell_type": "code",
   "execution_count": 13,
   "id": "fc13b346",
   "metadata": {
    "scrolled": true
   },
   "outputs": [
    {
     "data": {
      "text/plain": [
       "(13527337, 7)"
      ]
     },
     "execution_count": 13,
     "metadata": {},
     "output_type": "execute_result"
    }
   ],
   "source": [
    "loan_result.drop_duplicates().shape"
   ]
  },
  {
   "cell_type": "code",
   "execution_count": 15,
   "id": "4b0df411",
   "metadata": {},
   "outputs": [
    {
     "data": {
      "text/plain": [
       "26"
      ]
     },
     "execution_count": 15,
     "metadata": {},
     "output_type": "execute_result"
    }
   ],
   "source": [
    "loan_result.shape[0]-loan_result.drop_duplicates().shape[0]"
   ]
  },
  {
   "cell_type": "markdown",
   "id": "e3b45ed9",
   "metadata": {},
   "source": [
    "중복값 26개"
   ]
  },
  {
   "cell_type": "code",
   "execution_count": 36,
   "id": "6730f330",
   "metadata": {
    "scrolled": true
   },
   "outputs": [],
   "source": [
    "data = []\n",
    "for f in loan_result.columns:\n",
    "    # role 설정, 여기서는 target 피처가 없으므로 제외\n",
    "    if f == 'application_id':\n",
    "        role = 'id'\n",
    "    else:\n",
    "        role = 'input'\n",
    "\n",
    "    # level 설정\n",
    "    if loan_result[f].dtype == np.float32 or f == 'insert_time':\n",
    "        if f == 'is_applied': # 개인회생자 여부 및 납입 완료 여부 또는 성별 피처\n",
    "            level = 'binary'\n",
    "        else:\n",
    "            level = 'interval' # 그 외에 float와 시간 데이터\n",
    "    else: # category형 변수 및 id\n",
    "        level = 'nominal'\n",
    "\n",
    "    # Keep 설정 (keep할지 버릴지에 대한 내용)\n",
    "    keep = True\n",
    "    if role == 'id':\n",
    "        keep = False\n",
    "\n",
    "    # dtype 설정\n",
    "    dtype = loan_result[f].dtype\n",
    "\n",
    "    f_dict = {\n",
    "        'varname': f,\n",
    "        'role' : role,\n",
    "        'level' : level,\n",
    "        'keep' : keep,\n",
    "        'dtype' : dtype\n",
    "    }\n",
    "\n",
    "    data.append(f_dict)\n",
    "\n",
    "meta = pd.DataFrame(data, columns=['varname', 'role', 'level', 'keep', 'dtype'])\n",
    "meta = meta.set_index('varname')"
   ]
  },
  {
   "cell_type": "code",
   "execution_count": 51,
   "id": "4ff47019",
   "metadata": {
    "scrolled": true
   },
   "outputs": [
    {
     "data": {
      "text/html": [
       "<div>\n",
       "<style scoped>\n",
       "    .dataframe tbody tr th:only-of-type {\n",
       "        vertical-align: middle;\n",
       "    }\n",
       "\n",
       "    .dataframe tbody tr th {\n",
       "        vertical-align: top;\n",
       "    }\n",
       "\n",
       "    .dataframe thead th {\n",
       "        text-align: right;\n",
       "    }\n",
       "</style>\n",
       "<table border=\"1\" class=\"dataframe\">\n",
       "  <thead>\n",
       "    <tr style=\"text-align: right;\">\n",
       "      <th></th>\n",
       "      <th>role</th>\n",
       "      <th>level</th>\n",
       "      <th>keep</th>\n",
       "      <th>dtype</th>\n",
       "    </tr>\n",
       "    <tr>\n",
       "      <th>varname</th>\n",
       "      <th></th>\n",
       "      <th></th>\n",
       "      <th></th>\n",
       "      <th></th>\n",
       "    </tr>\n",
       "  </thead>\n",
       "  <tbody>\n",
       "    <tr>\n",
       "      <th>application_id</th>\n",
       "      <td>id</td>\n",
       "      <td>nominal</td>\n",
       "      <td>False</td>\n",
       "      <td>int32</td>\n",
       "    </tr>\n",
       "    <tr>\n",
       "      <th>loanapply_insert_time</th>\n",
       "      <td>input</td>\n",
       "      <td>nominal</td>\n",
       "      <td>True</td>\n",
       "      <td>datetime64[ns]</td>\n",
       "    </tr>\n",
       "    <tr>\n",
       "      <th>bank_id</th>\n",
       "      <td>input</td>\n",
       "      <td>nominal</td>\n",
       "      <td>True</td>\n",
       "      <td>int8</td>\n",
       "    </tr>\n",
       "    <tr>\n",
       "      <th>product_id</th>\n",
       "      <td>input</td>\n",
       "      <td>nominal</td>\n",
       "      <td>True</td>\n",
       "      <td>int16</td>\n",
       "    </tr>\n",
       "    <tr>\n",
       "      <th>loan_limit</th>\n",
       "      <td>input</td>\n",
       "      <td>interval</td>\n",
       "      <td>True</td>\n",
       "      <td>float32</td>\n",
       "    </tr>\n",
       "    <tr>\n",
       "      <th>loan_rate</th>\n",
       "      <td>input</td>\n",
       "      <td>interval</td>\n",
       "      <td>True</td>\n",
       "      <td>float32</td>\n",
       "    </tr>\n",
       "    <tr>\n",
       "      <th>is_applied</th>\n",
       "      <td>input</td>\n",
       "      <td>binary</td>\n",
       "      <td>True</td>\n",
       "      <td>float32</td>\n",
       "    </tr>\n",
       "  </tbody>\n",
       "</table>\n",
       "</div>"
      ],
      "text/plain": [
       "                        role     level   keep           dtype\n",
       "varname                                                      \n",
       "application_id            id   nominal  False           int32\n",
       "loanapply_insert_time  input   nominal   True  datetime64[ns]\n",
       "bank_id                input   nominal   True            int8\n",
       "product_id             input   nominal   True           int16\n",
       "loan_limit             input  interval   True         float32\n",
       "loan_rate              input  interval   True         float32\n",
       "is_applied             input    binary   True         float32"
      ]
     },
     "execution_count": 51,
     "metadata": {},
     "output_type": "execute_result"
    }
   ],
   "source": [
    "meta"
   ]
  },
  {
   "cell_type": "code",
   "execution_count": 54,
   "id": "7cca5a9e",
   "metadata": {
    "scrolled": true
   },
   "outputs": [
    {
     "data": {
      "text/plain": [
       "Index(['loanapply_insert_time', 'bank_id', 'product_id'], dtype='object', name='varname')"
      ]
     },
     "execution_count": 54,
     "metadata": {},
     "output_type": "execute_result"
    }
   ],
   "source": [
    "meta[(meta.level == 'nominal') & (meta.keep)].index"
   ]
  },
  {
   "cell_type": "code",
   "execution_count": 55,
   "id": "5e606373",
   "metadata": {
    "scrolled": true
   },
   "outputs": [
    {
     "data": {
      "text/html": [
       "<div>\n",
       "<style scoped>\n",
       "    .dataframe tbody tr th:only-of-type {\n",
       "        vertical-align: middle;\n",
       "    }\n",
       "\n",
       "    .dataframe tbody tr th {\n",
       "        vertical-align: top;\n",
       "    }\n",
       "\n",
       "    .dataframe thead th {\n",
       "        text-align: right;\n",
       "    }\n",
       "</style>\n",
       "<table border=\"1\" class=\"dataframe\">\n",
       "  <thead>\n",
       "    <tr style=\"text-align: right;\">\n",
       "      <th></th>\n",
       "      <th>role</th>\n",
       "      <th>level</th>\n",
       "      <th>count</th>\n",
       "    </tr>\n",
       "  </thead>\n",
       "  <tbody>\n",
       "    <tr>\n",
       "      <th>0</th>\n",
       "      <td>id</td>\n",
       "      <td>nominal</td>\n",
       "      <td>1</td>\n",
       "    </tr>\n",
       "    <tr>\n",
       "      <th>1</th>\n",
       "      <td>input</td>\n",
       "      <td>binary</td>\n",
       "      <td>1</td>\n",
       "    </tr>\n",
       "    <tr>\n",
       "      <th>2</th>\n",
       "      <td>input</td>\n",
       "      <td>interval</td>\n",
       "      <td>2</td>\n",
       "    </tr>\n",
       "    <tr>\n",
       "      <th>3</th>\n",
       "      <td>input</td>\n",
       "      <td>nominal</td>\n",
       "      <td>3</td>\n",
       "    </tr>\n",
       "  </tbody>\n",
       "</table>\n",
       "</div>"
      ],
      "text/plain": [
       "    role     level  count\n",
       "0     id   nominal      1\n",
       "1  input    binary      1\n",
       "2  input  interval      2\n",
       "3  input   nominal      3"
      ]
     },
     "execution_count": 55,
     "metadata": {},
     "output_type": "execute_result"
    }
   ],
   "source": [
    "pd.DataFrame({'count' : meta.groupby(['role', 'level'])['role'].size()}).reset_index()"
   ]
  },
  {
   "cell_type": "code",
   "execution_count": 56,
   "id": "5d480093",
   "metadata": {},
   "outputs": [],
   "source": [
    "meta.to_pickle('../data/meta_loan_result.pkl')"
   ]
  },
  {
   "cell_type": "code",
   "execution_count": 57,
   "id": "65c578c2",
   "metadata": {
    "scrolled": true
   },
   "outputs": [
    {
     "data": {
      "text/html": [
       "<div>\n",
       "<style scoped>\n",
       "    .dataframe tbody tr th:only-of-type {\n",
       "        vertical-align: middle;\n",
       "    }\n",
       "\n",
       "    .dataframe tbody tr th {\n",
       "        vertical-align: top;\n",
       "    }\n",
       "\n",
       "    .dataframe thead th {\n",
       "        text-align: right;\n",
       "    }\n",
       "</style>\n",
       "<table border=\"1\" class=\"dataframe\">\n",
       "  <thead>\n",
       "    <tr style=\"text-align: right;\">\n",
       "      <th></th>\n",
       "      <th>loan_limit</th>\n",
       "      <th>loan_rate</th>\n",
       "    </tr>\n",
       "  </thead>\n",
       "  <tbody>\n",
       "    <tr>\n",
       "      <th>count</th>\n",
       "      <td>13519868.00000</td>\n",
       "      <td>13519868.00000</td>\n",
       "    </tr>\n",
       "    <tr>\n",
       "      <th>mean</th>\n",
       "      <td>22424836.00000</td>\n",
       "      <td>12.89057</td>\n",
       "    </tr>\n",
       "    <tr>\n",
       "      <th>std</th>\n",
       "      <td>72035624.00000</td>\n",
       "      <td>3.81100</td>\n",
       "    </tr>\n",
       "    <tr>\n",
       "      <th>min</th>\n",
       "      <td>0.00000</td>\n",
       "      <td>1.50000</td>\n",
       "    </tr>\n",
       "    <tr>\n",
       "      <th>25%</th>\n",
       "      <td>9000000.00000</td>\n",
       "      <td>9.60000</td>\n",
       "    </tr>\n",
       "    <tr>\n",
       "      <th>50%</th>\n",
       "      <td>18000000.00000</td>\n",
       "      <td>13.20000</td>\n",
       "    </tr>\n",
       "    <tr>\n",
       "      <th>75%</th>\n",
       "      <td>33000000.00000</td>\n",
       "      <td>15.60000</td>\n",
       "    </tr>\n",
       "    <tr>\n",
       "      <th>max</th>\n",
       "      <td>230799998976.00000</td>\n",
       "      <td>20.00000</td>\n",
       "    </tr>\n",
       "  </tbody>\n",
       "</table>\n",
       "</div>"
      ],
      "text/plain": [
       "              loan_limit      loan_rate\n",
       "count     13519868.00000 13519868.00000\n",
       "mean      22424836.00000       12.89057\n",
       "std       72035624.00000        3.81100\n",
       "min              0.00000        1.50000\n",
       "25%        9000000.00000        9.60000\n",
       "50%       18000000.00000       13.20000\n",
       "75%       33000000.00000       15.60000\n",
       "max   230799998976.00000       20.00000"
      ]
     },
     "execution_count": 57,
     "metadata": {},
     "output_type": "execute_result"
    }
   ],
   "source": [
    "loan_result[meta[(meta.level == 'interval')& (meta.keep)].index].describe()"
   ]
  },
  {
   "cell_type": "markdown",
   "id": "aabbf677",
   "metadata": {},
   "source": [
    "#### interval 컬럼\n",
    "* loan_limit 7495개 결측값, right skewed, 2307억의 미친 max 값\n",
    "* loan_rate 7495개 결측값, 상대적으로 균형잡힘"
   ]
  },
  {
   "cell_type": "code",
   "execution_count": null,
   "id": "13224222",
   "metadata": {},
   "outputs": [],
   "source": []
  },
  {
   "cell_type": "code",
   "execution_count": 68,
   "id": "9464bd9e",
   "metadata": {
    "scrolled": true
   },
   "outputs": [
    {
     "data": {
      "text/plain": [
       "968866"
      ]
     },
     "execution_count": 68,
     "metadata": {},
     "output_type": "execute_result"
    }
   ],
   "source": [
    "len(loan_result.groupby('application_id').count())\n",
    "## application 길이"
   ]
  },
  {
   "cell_type": "code",
   "execution_count": 69,
   "id": "8db07790",
   "metadata": {},
   "outputs": [
    {
     "name": "stdout",
     "output_type": "stream",
     "text": [
      "Variable loanapply_insert_time has 3220564 distinct values\n",
      "Variable bank_id has 63 distinct values\n",
      "Variable product_id has 188 distinct values\n"
     ]
    }
   ],
   "source": [
    "v = meta[(meta.level == 'nominal') & (meta.keep)].index\n",
    "\n",
    "for f in v:\n",
    "    dist_values = loan_result[f].value_counts().shape[0]\n",
    "    print('Variable {} has {} distinct values'.format(f, dist_values))"
   ]
  },
  {
   "cell_type": "markdown",
   "id": "1e129fc2",
   "metadata": {},
   "source": [
    "#### nominal 컬럼\n",
    "* loanapply_insert_time 개수와 application_id 개수는 일치하지 않음(큰 의미 x)\n",
    "* bank_id 수는 63개-> 63개의 금융사 \n",
    "* product_id는 188개 -> 188개의 대출 상품 "
   ]
  },
  {
   "cell_type": "markdown",
   "id": "ceea861e",
   "metadata": {},
   "source": [
    "### target 컬럼 확인"
   ]
  },
  {
   "cell_type": "code",
   "execution_count": 80,
   "id": "821fa615",
   "metadata": {},
   "outputs": [
    {
     "data": {
      "text/plain": [
       "3257239"
      ]
     },
     "execution_count": 80,
     "metadata": {},
     "output_type": "execute_result"
    }
   ],
   "source": [
    "len(loan_result[loan_result['is_applied'].isna()])"
   ]
  },
  {
   "cell_type": "code",
   "execution_count": 72,
   "id": "78b39a01",
   "metadata": {
    "scrolled": true
   },
   "outputs": [
    {
     "data": {
      "text/plain": [
       "0.05457081273198128"
      ]
     },
     "execution_count": 72,
     "metadata": {},
     "output_type": "execute_result"
    }
   ],
   "source": [
    "loan_result['is_applied'].mean()"
   ]
  },
  {
   "cell_type": "markdown",
   "id": "dcb45195",
   "metadata": {},
   "source": [
    "#### 결측치 많음\n",
    "3257239개\n",
    "\n",
    "#### 0과 1의 비율이 0.05로 불균형함\n",
    "해결방안 모색 필요 (논문에서 0.25(1대4)정도의 비율 추천함)\n",
    "* 언더샘플링\n",
    "* 오버샘플링"
   ]
  },
  {
   "cell_type": "code",
   "execution_count": null,
   "id": "b0ab345e",
   "metadata": {},
   "outputs": [],
   "source": []
  },
  {
   "cell_type": "code",
   "execution_count": null,
   "id": "f92ef65b",
   "metadata": {},
   "outputs": [],
   "source": []
  },
  {
   "cell_type": "markdown",
   "id": "200f2375",
   "metadata": {},
   "source": [
    "### 달별 데이터 확인"
   ]
  },
  {
   "cell_type": "code",
   "execution_count": 88,
   "id": "f9b2c49b",
   "metadata": {},
   "outputs": [],
   "source": [
    "month_lst=[]\n",
    "for date in loan_result['loanapply_insert_time']:\n",
    "    #print(date.year)\n",
    "    #print(date.month)\n",
    "    month_lst.append(date.month)\n",
    "    #print(date.day)"
   ]
  },
  {
   "cell_type": "code",
   "execution_count": 89,
   "id": "ba60221f",
   "metadata": {},
   "outputs": [],
   "source": [
    "loan_result['month']=month_lst"
   ]
  },
  {
   "cell_type": "code",
   "execution_count": 92,
   "id": "81f79c21",
   "metadata": {},
   "outputs": [
    {
     "data": {
      "text/plain": [
       "application_id                 0\n",
       "loanapply_insert_time          0\n",
       "bank_id                        0\n",
       "product_id                     0\n",
       "loan_limit                  1757\n",
       "loan_rate                   1757\n",
       "is_applied               3257239\n",
       "month                          0\n",
       "dtype: int64"
      ]
     },
     "execution_count": 92,
     "metadata": {},
     "output_type": "execute_result"
    }
   ],
   "source": [
    "loan_result[loan_result['month']==6].isna().sum()"
   ]
  },
  {
   "cell_type": "markdown",
   "id": "79820b74",
   "metadata": {},
   "source": [
    "6월 is_applied의 결측값이 전체 isapplied 결측값과 개수가 같음"
   ]
  },
  {
   "cell_type": "markdown",
   "id": "bee37bdd",
   "metadata": {},
   "source": [
    "6월 data를 test data"
   ]
  },
  {
   "cell_type": "code",
   "execution_count": 105,
   "id": "5827f87b",
   "metadata": {},
   "outputs": [],
   "source": [
    "test=loan_result[loan_result['month']==6]\n",
    "test.to_parquet('../data/test.parquet')"
   ]
  },
  {
   "cell_type": "markdown",
   "id": "d3c0b178",
   "metadata": {},
   "source": [
    "그외는 train data"
   ]
  },
  {
   "cell_type": "code",
   "execution_count": 104,
   "id": "84eb88d2",
   "metadata": {},
   "outputs": [],
   "source": [
    "train=loan_result[loan_result['month']!=6]\n",
    "train.to_parquet('../data/train.parquet')"
   ]
  },
  {
   "cell_type": "code",
   "execution_count": null,
   "id": "c4f1b610",
   "metadata": {},
   "outputs": [],
   "source": []
  },
  {
   "cell_type": "code",
   "execution_count": null,
   "id": "56f21d94",
   "metadata": {},
   "outputs": [],
   "source": []
  }
 ],
 "metadata": {
  "kernelspec": {
   "display_name": "Python 3 (ipykernel)",
   "language": "python",
   "name": "python3"
  },
  "language_info": {
   "codemirror_mode": {
    "name": "ipython",
    "version": 3
   },
   "file_extension": ".py",
   "mimetype": "text/x-python",
   "name": "python",
   "nbconvert_exporter": "python",
   "pygments_lexer": "ipython3",
   "version": "3.9.7"
  }
 },
 "nbformat": 4,
 "nbformat_minor": 5
}
